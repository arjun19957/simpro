{
 "cells": [
  {
   "cell_type": "code",
   "execution_count": 1,
   "metadata": {},
   "outputs": [],
   "source": [
    "import pm4py\n",
    "import simpy\n",
    "import pandas as pd\n",
    "import random \n",
    "from pm4py.statistics.variants.log import get as pml"
   ]
  },
  {
   "cell_type": "markdown",
   "metadata": {},
   "source": [
    "# Steps usig pm4py"
   ]
  },
  {
   "cell_type": "markdown",
   "metadata": {},
   "source": [
    "## Read the data"
   ]
  },
  {
   "cell_type": "code",
   "execution_count": 2,
   "metadata": {},
   "outputs": [
    {
     "data": {
      "application/vnd.jupyter.widget-view+json": {
       "model_id": "6bae70b8152c4954b810acbdd9d4f447",
       "version_major": 2,
       "version_minor": 0
      },
      "text/plain": [
       "parsing log, completed traces ::   0%|          | 0/6 [00:00<?, ?it/s]"
      ]
     },
     "metadata": {},
     "output_type": "display_data"
    }
   ],
   "source": [
    "event_log = pm4py.read_xes('Dataset/running-example.xes')"
   ]
  },
  {
   "cell_type": "markdown",
   "metadata": {},
   "source": [
    "## Get all process steps"
   ]
  },
  {
   "cell_type": "code",
   "execution_count": 3,
   "metadata": {},
   "outputs": [],
   "source": [
    "event_log_pd =pm4py.convert_to_dataframe(event_log)\n",
    "process_steps = list(event_log_pd.iloc[:,0].drop_duplicates())\n",
    "for j in range(len(process_steps)):\n",
    "        process_steps[j] = process_steps[j].replace(' ', '_')"
   ]
  },
  {
   "cell_type": "markdown",
   "metadata": {},
   "source": [
    "## Get all varaiants"
   ]
  },
  {
   "cell_type": "code",
   "execution_count": 4,
   "metadata": {},
   "outputs": [],
   "source": [
    "variants = pml.get_variants_sorted_by_count(pml.get_variants(event_log))"
   ]
  },
  {
   "cell_type": "code",
   "execution_count": 5,
   "metadata": {},
   "outputs": [],
   "source": [
    "import pickle\n",
    "\n",
    "with open('outputs/data/variants.pkl', 'wb') as f:\n",
    "    pickle.dump(variants, f)"
   ]
  },
  {
   "cell_type": "markdown",
   "metadata": {},
   "source": [
    "  "
   ]
  },
  {
   "cell_type": "markdown",
   "metadata": {},
   "source": [
    "   "
   ]
  },
  {
   "cell_type": "markdown",
   "metadata": {},
   "source": [
    "# Renders"
   ]
  },
  {
   "cell_type": "markdown",
   "metadata": {},
   "source": [
    "## Initialisation"
   ]
  },
  {
   "cell_type": "code",
   "execution_count": 6,
   "metadata": {},
   "outputs": [],
   "source": [
    "from jinja2 import FileSystemLoader, Environment"
   ]
  },
  {
   "cell_type": "code",
   "execution_count": 7,
   "metadata": {},
   "outputs": [],
   "source": [
    "file_loader = FileSystemLoader('templates')\n",
    "env = Environment(loader = file_loader)"
   ]
  },
  {
   "cell_type": "markdown",
   "metadata": {},
   "source": [
    "## Class definition"
   ]
  },
  {
   "cell_type": "code",
   "execution_count": 8,
   "metadata": {},
   "outputs": [],
   "source": [
    "output_process_scenario = env.get_template('process_scenario/process_class.txt')\n",
    "output_render_process_scenario = output_process_scenario.render(list_of_steps = process_steps)\n",
    "with open(\"outputs/process_class.py\", \"w\") as fh:\n",
    "    fh.write(output_render_process_scenario)"
   ]
  },
  {
   "cell_type": "markdown",
   "metadata": {},
   "source": [
    "## Process variants"
   ]
  },
  {
   "cell_type": "code",
   "execution_count": 9,
   "metadata": {},
   "outputs": [],
   "source": [
    "output_process_actions = env.get_template('process_actions/action_plan.txt')\n",
    "\n",
    "for i in range(len(variants)):\n",
    "    \n",
    "    variant_list = variants[i][0].split(',')\n",
    "    \n",
    "    for j in range(len(variant_list)):\n",
    "        variant_list[j] = variant_list[j].replace(' ', '_')\n",
    "    \n",
    "    output_render_process_actions = output_process_actions.render(list_of_steps = variant_list)\n",
    "    \n",
    "    with open(f\"outputs/process_actions/process_variant_{i}.py\", \"w\") as fh:\n",
    "         fh.write(output_render_process_actions)"
   ]
  },
  {
   "cell_type": "markdown",
   "metadata": {},
   "source": [
    "## Action plan list"
   ]
  },
  {
   "cell_type": "code",
   "execution_count": 10,
   "metadata": {},
   "outputs": [],
   "source": [
    "output_action_plan_list = env.get_template('action_plan_list.txt')\n",
    "output_render_action_plan_list = output_action_plan_list.render(variant_count = len(variants))\n",
    "with open(\"outputs/action_plan_list.py\", \"w\") as fh:\n",
    "    fh.write(output_render_action_plan_list)"
   ]
  },
  {
   "cell_type": "markdown",
   "metadata": {},
   "source": [
    "## Run definition"
   ]
  },
  {
   "cell_type": "code",
   "execution_count": 11,
   "metadata": {},
   "outputs": [],
   "source": [
    "output_run_definition = env.get_template('run_definition.txt')\n",
    "output_render_run_definition = output_run_definition.render()\n",
    "with open(\"outputs/run_definition.py\", \"w\") as fh:\n",
    "    fh.write(output_render_run_definition)"
   ]
  },
  {
   "cell_type": "markdown",
   "metadata": {},
   "source": [
    "## Main definiton"
   ]
  },
  {
   "cell_type": "code",
   "execution_count": 12,
   "metadata": {},
   "outputs": [],
   "source": [
    "output_main = env.get_template('main.txt')\n",
    "output_render_main = output_main.render()\n",
    "with open(\"outputs/main.py\", \"w\") as fh:\n",
    "    fh.write(output_render_main)"
   ]
  }
 ],
 "metadata": {
  "kernelspec": {
   "display_name": "Python 3",
   "language": "python",
   "name": "python3"
  },
  "language_info": {
   "codemirror_mode": {
    "name": "ipython",
    "version": 3
   },
   "file_extension": ".py",
   "mimetype": "text/x-python",
   "name": "python",
   "nbconvert_exporter": "python",
   "pygments_lexer": "ipython3",
   "version": "3.8.5"
  }
 },
 "nbformat": 4,
 "nbformat_minor": 4
}
