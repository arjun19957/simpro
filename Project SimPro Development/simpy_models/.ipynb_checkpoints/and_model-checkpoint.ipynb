{
 "cells": [
  {
   "cell_type": "markdown",
   "metadata": {},
   "source": [
    "# Objective:\n",
    "Create a simpy model that has 3 sequential steps "
   ]
  },
  {
   "cell_type": "code",
   "execution_count": 212,
   "metadata": {},
   "outputs": [],
   "source": [
    "import simpy\n",
    "import pandas as pd\n",
    "import pm4py\n",
    "import random"
   ]
  },
  {
   "cell_type": "code",
   "execution_count": 2,
   "metadata": {},
   "outputs": [],
   "source": [
    "log_list = []"
   ]
  },
  {
   "cell_type": "code",
   "execution_count": 3,
   "metadata": {},
   "outputs": [],
   "source": [
    "env = simpy.Environment() \n",
    "process_A_resource = simpy.Resource(env, capacity = 1)\n",
    "process_B_resource = simpy.Resource(env, capacity = 1)\n",
    "process_C_resource = simpy.Resource(env, capacity = 1)"
   ]
  },
  {
   "cell_type": "code",
   "execution_count": 4,
   "metadata": {},
   "outputs": [],
   "source": [
    "def process_A (entity,env):\n",
    "    \n",
    "    with process_A_resource.request() as request:\n",
    "        yield request\n",
    "        yield env.timeout(2)\n",
    "        #print('process A happend')\n",
    "        log_list.append([entity, env.now, 'process_A' ])"
   ]
  },
  {
   "cell_type": "code",
   "execution_count": 5,
   "metadata": {},
   "outputs": [],
   "source": [
    "def process_B(entity,env):\n",
    "    with process_B_resource.request() as request:\n",
    "        yield request\n",
    "        yield env.timeout(2)\n",
    "       # print('process B happend')\n",
    "        log_list.append([entity, env.now, 'process_B' ])"
   ]
  },
  {
   "cell_type": "code",
   "execution_count": 6,
   "metadata": {},
   "outputs": [],
   "source": [
    "def process_C(entity,env):\n",
    "    with process_C_resource.request() as request:\n",
    "        yield request\n",
    "        yield env.timeout(2)\n",
    "       # print('process C happend')\n",
    "        log_list.append([entity, env.now, 'process_C' ])"
   ]
  },
  {
   "cell_type": "code",
   "execution_count": 7,
   "metadata": {},
   "outputs": [],
   "source": [
    "def run_definition(env):\n",
    "    entity = 1\n",
    "   \n",
    "    while env.now < 20:\n",
    "        entity += 1\n",
    "        yield env.timeout(2)\n",
    "        env.process(process_A(entity,env))\n",
    "        env.process(process_B(entity,env))\n",
    "        env.process(process_C(entity,env))\n",
    "      "
   ]
  },
  {
   "cell_type": "code",
   "execution_count": 8,
   "metadata": {},
   "outputs": [],
   "source": [
    "env.process(run_definition(env))\n",
    "env.run(90)"
   ]
  },
  {
   "cell_type": "markdown",
   "metadata": {},
   "source": [
    "# New_seq_process"
   ]
  },
  {
   "cell_type": "code",
   "execution_count": 213,
   "metadata": {},
   "outputs": [],
   "source": [
    "class process_scenario():\n",
    "    \n",
    "    def __init__(self):\n",
    "        \n",
    "        self.env = simpy.Environment() \n",
    "        self.process_A_resource = simpy.Resource(self.env, capacity = 1)\n",
    "        self.process_B_resource = simpy.Resource(self.env, capacity = 1)\n",
    "        self.process_C_resource = simpy.Resource(self.env, capacity = 1)\n",
    "    \n",
    "    def process_A(self):\n",
    "        yield self.env.timeout(2)\n",
    "    \n",
    "    def process_B(self):\n",
    "        yield self.env.timeout(2)\n",
    "    \n",
    "    def process_C(self):\n",
    "        yield self.env.timeout(2)\n",
    "    \n",
    "    "
   ]
  },
  {
   "cell_type": "code",
   "execution_count": 214,
   "metadata": {},
   "outputs": [],
   "source": [
    "class logger():\n",
    "    \n",
    "    def __init__(self):\n",
    "        self.log_list = []\n",
    "    \n",
    "    def to_df(self):\n",
    "        self.log_df = pd.DataFrame(log_list, columns = ['entity' , 'event_time', 'activity'])\n",
    "        return self.log_df"
   ]
  },
  {
   "cell_type": "code",
   "execution_count": 215,
   "metadata": {},
   "outputs": [],
   "source": [
    "process_scenario_object = process_scenario()"
   ]
  },
  {
   "cell_type": "code",
   "execution_count": 216,
   "metadata": {},
   "outputs": [],
   "source": [
    "log_list = []"
   ]
  },
  {
   "cell_type": "code",
   "execution_count": 217,
   "metadata": {},
   "outputs": [],
   "source": [
    "def action_plan(entity, process_scenario_object, logger):\n",
    "\n",
    "    with process_scenario_object.process_A_resource.request() as request:\n",
    "        yield request\n",
    "        yield process_scenario_object.env.process(process_scenario_object.process_A())\n",
    "        logger.log_list.append([entity, process_scenario_object.env.now, 'process_A' ])\n",
    "        \n",
    "    \n",
    "    if random.choice([True, False]):\n",
    "    \n",
    "        with process_scenario_object.process_B_resource.request() as request:\n",
    "            yield request\n",
    "            yield process_scenario_object.env.process(process_scenario_object.process_B())\n",
    "            logger.log_list.append([entity, process_scenario_object.env.now, 'process_B' ])  \n",
    "    else:    \n",
    "        \n",
    "        with process_scenario_object.process_C_resource.request() as request:\n",
    "            yield request\n",
    "            yield process_scenario_object.env.process(process_scenario_object.process_C())\n",
    "            logger.log_list.append([entity, process_scenario_object.env.now, 'process_C' ])"
   ]
  },
  {
   "cell_type": "code",
   "execution_count": 218,
   "metadata": {},
   "outputs": [],
   "source": [
    "def run_definition_new(process_scenario_object, logger):\n",
    "    entity = 1\n",
    "    \n",
    "    while process_scenario_object.env.now < 20:\n",
    "        entity += 1\n",
    "        yield process_scenario_object.env.timeout(2)\n",
    "        process_scenario_object.env.process(new_test_process(entity, process_scenario_object, logger))\n",
    "      "
   ]
  },
  {
   "cell_type": "code",
   "execution_count": 219,
   "metadata": {},
   "outputs": [],
   "source": [
    "logger_instance = logger()"
   ]
  },
  {
   "cell_type": "code",
   "execution_count": 220,
   "metadata": {},
   "outputs": [
    {
     "name": "stdout",
     "output_type": "stream",
     "text": [
      "new_test_entered\n",
      "process_A_entered 2\n",
      "process_A_request_complete 2\n",
      "new_test_entered\n",
      "process_A_entered 3\n",
      "process A happend\n",
      "process_A_request_complete 3\n",
      "new_test_entered\n",
      "process_A_entered 4\n",
      "process A happend\n",
      "process_A_request_complete 4\n",
      "new_test_entered\n",
      "process_A_entered 5\n",
      "process b happened 90\n",
      "process A happend\n",
      "process_A_request_complete 5\n",
      "new_test_entered\n",
      "process_A_entered 6\n",
      "process A happend\n",
      "process_A_request_complete 6\n",
      "new_test_entered\n",
      "process_A_entered 7\n",
      "process b happened 90\n",
      "process A happend\n",
      "process_A_request_complete 7\n",
      "new_test_entered\n",
      "process_A_entered 8\n",
      "process A happend\n",
      "process_A_request_complete 8\n",
      "new_test_entered\n",
      "process_A_entered 9\n",
      "process b happened 90\n",
      "process A happend\n",
      "process_A_request_complete 9\n",
      "new_test_entered\n",
      "process_A_entered 10\n",
      "process b happened 90\n",
      "process A happend\n",
      "process_A_request_complete 10\n",
      "new_test_entered\n",
      "process_A_entered 11\n",
      "process b happened 90\n",
      "process A happend\n",
      "process_A_request_complete 11\n",
      "process b happened 90\n",
      "process A happend\n",
      "process b happened 90\n"
     ]
    }
   ],
   "source": [
    "process_scenario_object = process_scenario()\n",
    "process_scenario_object.env.process(run_definition_new(process_scenario_object, logger_instance))\n",
    "process_scenario_object.env.run(90)"
   ]
  },
  {
   "cell_type": "code",
   "execution_count": 192,
   "metadata": {},
   "outputs": [],
   "source": [
    "def process_A_test(entity):\n",
    "    with process_scenario_object.process_A_resource.request() as request:\n",
    "        yield request\n",
    "        print('request yielded', entity)"
   ]
  },
  {
   "cell_type": "code",
   "execution_count": 195,
   "metadata": {},
   "outputs": [],
   "source": [
    "for i in range(10):\n",
    "    process_A_test(i)"
   ]
  },
  {
   "cell_type": "code",
   "execution_count": 221,
   "metadata": {},
   "outputs": [
    {
     "data": {
      "text/plain": [
       "[[2, 4, 'process_A'],\n",
       " [2, 6, 'process_C'],\n",
       " [3, 6, 'process_A'],\n",
       " [3, 8, 'process_B'],\n",
       " [4, 8, 'process_A'],\n",
       " [4, 10, 'process_C'],\n",
       " [5, 10, 'process_A'],\n",
       " [5, 12, 'process_B'],\n",
       " [6, 12, 'process_A'],\n",
       " [6, 14, 'process_C'],\n",
       " [7, 14, 'process_A'],\n",
       " [7, 16, 'process_B'],\n",
       " [8, 16, 'process_A'],\n",
       " [8, 18, 'process_B'],\n",
       " [9, 18, 'process_A'],\n",
       " [9, 20, 'process_B'],\n",
       " [10, 20, 'process_A'],\n",
       " [10, 22, 'process_B'],\n",
       " [11, 22, 'process_A'],\n",
       " [11, 24, 'process_B']]"
      ]
     },
     "execution_count": 221,
     "metadata": {},
     "output_type": "execute_result"
    }
   ],
   "source": [
    "logger_instance.log_list"
   ]
  },
  {
   "cell_type": "markdown",
   "metadata": {},
   "source": [
    "# Process mining"
   ]
  },
  {
   "cell_type": "code",
   "execution_count": 222,
   "metadata": {},
   "outputs": [],
   "source": [
    "log = pd.DataFrame(logger_instance.log_list, columns = ['entity' , 'event_time', 'activity'])"
   ]
  },
  {
   "cell_type": "code",
   "execution_count": 223,
   "metadata": {},
   "outputs": [],
   "source": [
    "log.to_csv('../outputs/xor_log.csv' )"
   ]
  },
  {
   "cell_type": "code",
   "execution_count": 224,
   "metadata": {},
   "outputs": [],
   "source": [
    "log_pm = pm4py.format_dataframe(log, case_id = 'entity', activity_key = 'activity', timestamp_key = 'event_time')"
   ]
  },
  {
   "cell_type": "code",
   "execution_count": 225,
   "metadata": {},
   "outputs": [],
   "source": [
    "process_mode = pm4py.discover_bpmn_inductive(log_pm)"
   ]
  },
  {
   "cell_type": "code",
   "execution_count": 226,
   "metadata": {},
   "outputs": [
    {
     "data": {
      "image/png": "[encoded data removed]",
      "text/plain": [
       "<IPython.core.display.Image object>"
      ]
     },
     "metadata": {},
     "output_type": "display_data"
    }
   ],
   "source": [
    "pm4py.view_bpmn(process_mode)"
   ]
  },
  {
   "cell_type": "code",
   "execution_count": 31,
   "metadata": {},
   "outputs": [
    {
     "data": {
      "text/html": [
       "<div>\n",
       "<style scoped>\n",
       "    .dataframe tbody tr th:only-of-type {\n",
       "        vertical-align: middle;\n",
       "    }\n",
       "\n",
       "    .dataframe tbody tr th {\n",
       "        vertical-align: top;\n",
       "    }\n",
       "\n",
       "    .dataframe thead th {\n",
       "        text-align: right;\n",
       "    }\n",
       "</style>\n",
       "<table border=\"1\" class=\"dataframe\">\n",
       "  <thead>\n",
       "    <tr style=\"text-align: right;\">\n",
       "      <th></th>\n",
       "      <th>entity</th>\n",
       "      <th>event_time</th>\n",
       "      <th>activity</th>\n",
       "    </tr>\n",
       "  </thead>\n",
       "  <tbody>\n",
       "    <tr>\n",
       "      <th>0</th>\n",
       "      <td>2</td>\n",
       "      <td>4</td>\n",
       "      <td>process_A</td>\n",
       "    </tr>\n",
       "    <tr>\n",
       "      <th>1</th>\n",
       "      <td>2</td>\n",
       "      <td>6</td>\n",
       "      <td>process_B</td>\n",
       "    </tr>\n",
       "    <tr>\n",
       "      <th>2</th>\n",
       "      <td>3</td>\n",
       "      <td>6</td>\n",
       "      <td>process_A</td>\n",
       "    </tr>\n",
       "    <tr>\n",
       "      <th>3</th>\n",
       "      <td>2</td>\n",
       "      <td>8</td>\n",
       "      <td>process_C</td>\n",
       "    </tr>\n",
       "    <tr>\n",
       "      <th>4</th>\n",
       "      <td>3</td>\n",
       "      <td>8</td>\n",
       "      <td>process_B</td>\n",
       "    </tr>\n",
       "    <tr>\n",
       "      <th>5</th>\n",
       "      <td>4</td>\n",
       "      <td>8</td>\n",
       "      <td>process_A</td>\n",
       "    </tr>\n",
       "    <tr>\n",
       "      <th>6</th>\n",
       "      <td>3</td>\n",
       "      <td>10</td>\n",
       "      <td>process_C</td>\n",
       "    </tr>\n",
       "    <tr>\n",
       "      <th>7</th>\n",
       "      <td>4</td>\n",
       "      <td>10</td>\n",
       "      <td>process_B</td>\n",
       "    </tr>\n",
       "    <tr>\n",
       "      <th>8</th>\n",
       "      <td>5</td>\n",
       "      <td>10</td>\n",
       "      <td>process_A</td>\n",
       "    </tr>\n",
       "    <tr>\n",
       "      <th>9</th>\n",
       "      <td>4</td>\n",
       "      <td>12</td>\n",
       "      <td>process_C</td>\n",
       "    </tr>\n",
       "    <tr>\n",
       "      <th>10</th>\n",
       "      <td>5</td>\n",
       "      <td>12</td>\n",
       "      <td>process_B</td>\n",
       "    </tr>\n",
       "    <tr>\n",
       "      <th>11</th>\n",
       "      <td>6</td>\n",
       "      <td>12</td>\n",
       "      <td>process_A</td>\n",
       "    </tr>\n",
       "    <tr>\n",
       "      <th>12</th>\n",
       "      <td>5</td>\n",
       "      <td>14</td>\n",
       "      <td>process_C</td>\n",
       "    </tr>\n",
       "    <tr>\n",
       "      <th>13</th>\n",
       "      <td>6</td>\n",
       "      <td>14</td>\n",
       "      <td>process_B</td>\n",
       "    </tr>\n",
       "    <tr>\n",
       "      <th>14</th>\n",
       "      <td>7</td>\n",
       "      <td>14</td>\n",
       "      <td>process_A</td>\n",
       "    </tr>\n",
       "    <tr>\n",
       "      <th>15</th>\n",
       "      <td>6</td>\n",
       "      <td>16</td>\n",
       "      <td>process_C</td>\n",
       "    </tr>\n",
       "    <tr>\n",
       "      <th>16</th>\n",
       "      <td>7</td>\n",
       "      <td>16</td>\n",
       "      <td>process_B</td>\n",
       "    </tr>\n",
       "    <tr>\n",
       "      <th>17</th>\n",
       "      <td>8</td>\n",
       "      <td>16</td>\n",
       "      <td>process_A</td>\n",
       "    </tr>\n",
       "    <tr>\n",
       "      <th>18</th>\n",
       "      <td>7</td>\n",
       "      <td>18</td>\n",
       "      <td>process_C</td>\n",
       "    </tr>\n",
       "    <tr>\n",
       "      <th>19</th>\n",
       "      <td>8</td>\n",
       "      <td>18</td>\n",
       "      <td>process_B</td>\n",
       "    </tr>\n",
       "    <tr>\n",
       "      <th>20</th>\n",
       "      <td>9</td>\n",
       "      <td>18</td>\n",
       "      <td>process_A</td>\n",
       "    </tr>\n",
       "    <tr>\n",
       "      <th>21</th>\n",
       "      <td>8</td>\n",
       "      <td>20</td>\n",
       "      <td>process_C</td>\n",
       "    </tr>\n",
       "    <tr>\n",
       "      <th>22</th>\n",
       "      <td>9</td>\n",
       "      <td>20</td>\n",
       "      <td>process_B</td>\n",
       "    </tr>\n",
       "    <tr>\n",
       "      <th>23</th>\n",
       "      <td>10</td>\n",
       "      <td>20</td>\n",
       "      <td>process_A</td>\n",
       "    </tr>\n",
       "    <tr>\n",
       "      <th>24</th>\n",
       "      <td>9</td>\n",
       "      <td>22</td>\n",
       "      <td>process_C</td>\n",
       "    </tr>\n",
       "    <tr>\n",
       "      <th>25</th>\n",
       "      <td>10</td>\n",
       "      <td>22</td>\n",
       "      <td>process_B</td>\n",
       "    </tr>\n",
       "    <tr>\n",
       "      <th>26</th>\n",
       "      <td>11</td>\n",
       "      <td>22</td>\n",
       "      <td>process_A</td>\n",
       "    </tr>\n",
       "    <tr>\n",
       "      <th>27</th>\n",
       "      <td>10</td>\n",
       "      <td>24</td>\n",
       "      <td>process_C</td>\n",
       "    </tr>\n",
       "    <tr>\n",
       "      <th>28</th>\n",
       "      <td>11</td>\n",
       "      <td>24</td>\n",
       "      <td>process_B</td>\n",
       "    </tr>\n",
       "    <tr>\n",
       "      <th>29</th>\n",
       "      <td>11</td>\n",
       "      <td>26</td>\n",
       "      <td>process_C</td>\n",
       "    </tr>\n",
       "  </tbody>\n",
       "</table>\n",
       "</div>"
      ],
      "text/plain": [
       "    entity  event_time   activity\n",
       "0        2           4  process_A\n",
       "1        2           6  process_B\n",
       "2        3           6  process_A\n",
       "3        2           8  process_C\n",
       "4        3           8  process_B\n",
       "5        4           8  process_A\n",
       "6        3          10  process_C\n",
       "7        4          10  process_B\n",
       "8        5          10  process_A\n",
       "9        4          12  process_C\n",
       "10       5          12  process_B\n",
       "11       6          12  process_A\n",
       "12       5          14  process_C\n",
       "13       6          14  process_B\n",
       "14       7          14  process_A\n",
       "15       6          16  process_C\n",
       "16       7          16  process_B\n",
       "17       8          16  process_A\n",
       "18       7          18  process_C\n",
       "19       8          18  process_B\n",
       "20       9          18  process_A\n",
       "21       8          20  process_C\n",
       "22       9          20  process_B\n",
       "23      10          20  process_A\n",
       "24       9          22  process_C\n",
       "25      10          22  process_B\n",
       "26      11          22  process_A\n",
       "27      10          24  process_C\n",
       "28      11          24  process_B\n",
       "29      11          26  process_C"
      ]
     },
     "execution_count": 31,
     "metadata": {},
     "output_type": "execute_result"
    }
   ],
   "source": [
    "log"
   ]
  },
  {
   "cell_type": "code",
   "execution_count": null,
   "metadata": {},
   "outputs": [],
   "source": []
  }
 ],
 "metadata": {
  "kernelspec": {
   "display_name": "Python 3",
   "language": "python",
   "name": "python3"
  },
  "language_info": {
   "codemirror_mode": {
    "name": "ipython",
    "version": 3
   },
   "file_extension": ".py",
   "mimetype": "text/x-python",
   "name": "python",
   "nbconvert_exporter": "python",
   "pygments_lexer": "ipython3",
   "version": "3.8.5"
  }
 },
 "nbformat": 4,
 "nbformat_minor": 4
}
