{
 "cells": [
  {
   "cell_type": "code",
   "execution_count": 29,
   "metadata": {},
   "outputs": [],
   "source": [
    "import simpy\n",
    "import random\n",
    "import statistics"
   ]
  },
  {
   "cell_type": "code",
   "execution_count": 30,
   "metadata": {},
   "outputs": [],
   "source": [
    "env = simpy.Environment()\n",
    "wait_times = []"
   ]
  },
  {
   "cell_type": "code",
   "execution_count": 41,
   "metadata": {},
   "outputs": [],
   "source": [
    "class Theater(object):\n",
    "    def __init__(self, env, num_cashiers,num_servers,num_ushers):\n",
    "        self.env = env\n",
    "        self.cashier = simpy.Resource(env, num_cashiers)\n",
    "        self.server = simpy.Resource(env, num_servers)\n",
    "        self.usher = simpy.Resource(env,num_ushers)\n",
    "        \n",
    "    def purchase_ticket(self, moviegoer):\n",
    "        yield self.env.timeout(random.randint(1, 3))\n",
    "    \n",
    "    def check_ticket(self, moviegoer):\n",
    "        yield self.env.timeout(random.randint(1,2))\n",
    "        \n",
    "    def sell_food(self,moviegoer):\n",
    "        yield self.env.timeout(random.randint(2,5))\n",
    "    "
   ]
  },
  {
   "cell_type": "code",
   "execution_count": 43,
   "metadata": {},
   "outputs": [],
   "source": [
    "test = Theater(1,2,3,4)"
   ]
  },
  {
   "cell_type": "code",
   "execution_count": 48,
   "metadata": {},
   "outputs": [
    {
     "data": {
      "text/plain": [
       "<function __main__.go_to_movies(env, moviegoer, theater)>"
      ]
     },
     "execution_count": 48,
     "metadata": {},
     "output_type": "execute_result"
    }
   ],
   "source": [
    "go_to_movies"
   ]
  },
  {
   "cell_type": "code",
   "execution_count": 32,
   "metadata": {},
   "outputs": [],
   "source": [
    "def go_to_movies(env, moviegoer, theater):\n",
    "    # Moviegoer arrives at the theater\n",
    "    arrival_time = env.now\n",
    "    \n",
    "    with theater.cashier.request() as request:\n",
    "        yield request\n",
    "        yield env.process(theater.purchase_ticket(moviegoer))\n",
    "    \n",
    "    with theater.cashier.request() as request:\n",
    "        yield request\n",
    "        yield env.process(theater.check_ticket(moviegoer))\n",
    "\n",
    "\n",
    "    if random.choice([True, False]):\n",
    "        with theater.server.request() as request:\n",
    "            yield request\n",
    "            yield env.process(theater.sell_food(moviegoer))\n",
    "\n",
    "    # Moviegoer heads into the theater\n",
    "    wait_times.append(env.now - arrival_time)"
   ]
  },
  {
   "cell_type": "code",
   "execution_count": 33,
   "metadata": {},
   "outputs": [],
   "source": [
    "def run_theater(env, num_cashiers, num_servers, num_ushers):\n",
    "    theater = Theater(env, num_cashiers, num_servers, num_ushers)\n",
    "\n",
    "    for moviegoer in range(3):\n",
    "        env.process(go_to_movies(env, moviegoer, theater))\n",
    "\n",
    "    while True:\n",
    "        yield env.timeout(0.20)  # Wait a bit before generating a new person\n",
    "\n",
    "        moviegoer += 1\n",
    "        env.process(go_to_movies(env, moviegoer, theater))"
   ]
  },
  {
   "cell_type": "code",
   "execution_count": 34,
   "metadata": {},
   "outputs": [],
   "source": [
    "def get_average_wait_time(wait_times):\n",
    "    average_wait = statistics.mean(wait_times)"
   ]
  },
  {
   "cell_type": "code",
   "execution_count": 35,
   "metadata": {},
   "outputs": [],
   "source": [
    "def calculate_wait_time(arrival_times, departure_times):\n",
    "    average_wait = statistics.mean(wait_times)\n",
    "    # Pretty print the results\n",
    "    minutes, frac_minutes = divmod(average_wait, 1)\n",
    "    seconds = frac_minutes * 60\n",
    "    return round(minutes), round(seconds)"
   ]
  },
  {
   "cell_type": "code",
   "execution_count": 36,
   "metadata": {},
   "outputs": [],
   "source": [
    "def get_user_input():\n",
    "    num_cashiers = input(\"Input # of cashiers working: \")\n",
    "    num_servers = input(\"Input # of servers working: \")\n",
    "    num_ushers = input(\"Input # of ushers working: \")\n",
    "    params = [num_cashiers, num_servers, num_ushers]\n",
    "    if all(str(i).isdigit() for i in params):  # Check input is valid\n",
    "        params = [int(x) for x in params]\n",
    "    else:\n",
    "        print(\n",
    "            \"Could not parse input. The simulation will use default values:\",\n",
    "            \"\\n1 cashier, 1 server, 1 usher.\",\n",
    "        )\n",
    "        params = [1, 1, 1]\n",
    "    return params"
   ]
  },
  {
   "cell_type": "code",
   "execution_count": 37,
   "metadata": {},
   "outputs": [],
   "source": [
    "def main():\n",
    "  # Setup\n",
    "    random.seed(42)\n",
    "    num_cashiers, num_servers, num_ushers = get_user_input()\n",
    "    \n",
    "  # Run the simulation\n",
    "    env = simpy.Environment()\n",
    "    env.process(run_theater(env, num_cashiers, num_servers, num_ushers))\n",
    "    env.run(until=90)\n",
    "\n",
    "  # View the results\n",
    "   # mins, secs = get_average_wait_time(wait_times)\n",
    "    #print(\n",
    "           #\"Running simulation...\",\n",
    "            #f\"\\nThe average wait time is {mins} minutes and {secs} seconds.\",\n",
    "  "
   ]
  },
  {
   "cell_type": "code",
   "execution_count": 49,
   "metadata": {},
   "outputs": [
    {
     "data": {
      "text/plain": [
       "<function __main__.run_theater(env, num_cashiers, num_servers, num_ushers)>"
      ]
     },
     "execution_count": 49,
     "metadata": {},
     "output_type": "execute_result"
    }
   ],
   "source": [
    "run_theater"
   ]
  },
  {
   "cell_type": "code",
   "execution_count": 38,
   "metadata": {},
   "outputs": [
    {
     "name": "stdout",
     "output_type": "stream",
     "text": [
      "Input # of cashiers working: 21\n",
      "Input # of servers working: 3\n",
      "Input # of ushers working: 4\n"
     ]
    }
   ],
   "source": [
    "main()"
   ]
  },
  {
   "cell_type": "code",
   "execution_count": 39,
   "metadata": {},
   "outputs": [
    {
     "data": {
      "text/plain": [
       "[2.0,\n",
       " 1.9999999999999998,\n",
       " 3.0,\n",
       " 1.9999999999999998,\n",
       " 2.0,\n",
       " 2.0,\n",
       " 2.0000000000000004,\n",
       " 5,\n",
       " 5,\n",
       " 5.0,\n",
       " 4.0,\n",
       " 3.9999999999999996,\n",
       " 2.0,\n",
       " 4.0,\n",
       " 3.0000000000000004,\n",
       " 2.9999999999999996,\n",
       " 7,\n",
       " 2.0,\n",
       " 3.0,\n",
       " 7.0,\n",
       " 3.0,\n",
       " 3.0,\n",
       " 6.0,\n",
       " 3.000000000000001,\n",
       " 8.8,\n",
       " 6.799999999999999,\n",
       " 4.000000000000001,\n",
       " 2.999999999999999,\n",
       " 3.000000000000001,\n",
       " 3.0,\n",
       " 4.0,\n",
       " 4.0,\n",
       " 9.6,\n",
       " 8.399999999999999,\n",
       " 3.0,\n",
       " 4.0,\n",
       " 4.0,\n",
       " 11.4,\n",
       " 4.0,\n",
       " 2.0,\n",
       " 9.399999999999999,\n",
       " 4.0,\n",
       " 5.0,\n",
       " 4.0,\n",
       " 2.0,\n",
       " 4.0,\n",
       " 11.2,\n",
       " 4.0,\n",
       " 3.0,\n",
       " 5.0,\n",
       " 2.0,\n",
       " 3.0,\n",
       " 14.0,\n",
       " 2.0,\n",
       " 5.0,\n",
       " 3.0,\n",
       " 2.0,\n",
       " 5.0,\n",
       " 14.999999999999998,\n",
       " 12.599999999999996,\n",
       " 4.0,\n",
       " 3.0,\n",
       " 14.799999999999997,\n",
       " 2.0,\n",
       " 2.0,\n",
       " 4.0,\n",
       " 4.0,\n",
       " 4.0,\n",
       " 16.4,\n",
       " 3.0,\n",
       " 16.999999999999996,\n",
       " 15.999999999999996,\n",
       " 3.0,\n",
       " 3.0,\n",
       " 5.0,\n",
       " 18.599999999999998,\n",
       " 3.0,\n",
       " 4.0,\n",
       " 5.0,\n",
       " 18.199999999999996,\n",
       " 2.0,\n",
       " 2.0,\n",
       " 3.0,\n",
       " 5.0,\n",
       " 5.0,\n",
       " 19.599999999999998,\n",
       " 17.000000000000007,\n",
       " 2.0,\n",
       " 3.0,\n",
       " 3.0,\n",
       " 4.0,\n",
       " 3.0,\n",
       " 4.0,\n",
       " 5.0,\n",
       " 20.8,\n",
       " 3.0,\n",
       " 4.0,\n",
       " 22.6,\n",
       " 21.400000000000006,\n",
       " 4.0000000000000036,\n",
       " 2.9999999999999964,\n",
       " 3.9999999999999964,\n",
       " 3.0000000000000036,\n",
       " 23.400000000000002,\n",
       " 4.0000000000000036,\n",
       " 4.0,\n",
       " 25.2,\n",
       " 3.9999999999999964,\n",
       " 3.0,\n",
       " 5.0,\n",
       " 23.20000000000001,\n",
       " 3.0,\n",
       " 4.0000000000000036,\n",
       " 4.0,\n",
       " 3.0,\n",
       " 3.0,\n",
       " 24.600000000000012,\n",
       " 24.400000000000013,\n",
       " 4.0,\n",
       " 3.0,\n",
       " 5.0,\n",
       " 4.0,\n",
       " 3.0,\n",
       " 26.200000000000014,\n",
       " 4.0,\n",
       " 3.0,\n",
       " 3.0,\n",
       " 2.0,\n",
       " 4.0,\n",
       " 26.00000000000002,\n",
       " 4.0,\n",
       " 28.800000000000015,\n",
       " 28.200000000000017,\n",
       " 5.0,\n",
       " 4.0,\n",
       " 3.0,\n",
       " 5.0,\n",
       " 2.0,\n",
       " 5.0,\n",
       " 3.0,\n",
       " 5.0,\n",
       " 5.0,\n",
       " 3.0,\n",
       " 30.800000000000022,\n",
       " 29.600000000000026,\n",
       " 30.600000000000023,\n",
       " 2.199999999999932,\n",
       " 2.0,\n",
       " 4.0,\n",
       " 5.0,\n",
       " 4.0,\n",
       " 4.0,\n",
       " 3.0,\n",
       " 2.0,\n",
       " 5.0,\n",
       " 4.0,\n",
       " 2.0,\n",
       " 33.00000000000003,\n",
       " 32.60000000000003,\n",
       " 3.0,\n",
       " 3.0,\n",
       " 4.0,\n",
       " 3.0,\n",
       " 36.40000000000002,\n",
       " 2.0,\n",
       " 2.0,\n",
       " 36.40000000000002,\n",
       " 4.0,\n",
       " 4.0,\n",
       " 5.0,\n",
       " 4.0,\n",
       " 37.200000000000024,\n",
       " 36.20000000000003,\n",
       " 4.0,\n",
       " 2.0,\n",
       " 3.0,\n",
       " 4.0,\n",
       " 4.0,\n",
       " 3.0,\n",
       " 2.0,\n",
       " 36.80000000000003,\n",
       " 5.0,\n",
       " 38.00000000000003,\n",
       " 36.80000000000004,\n",
       " 4.0,\n",
       " 5.0,\n",
       " 4.0,\n",
       " 2.0,\n",
       " 5.0,\n",
       " 3.0,\n",
       " 5.0,\n",
       " 38.20000000000004,\n",
       " 4.0,\n",
       " 3.0,\n",
       " 2.0,\n",
       " 41.400000000000034,\n",
       " 5.0,\n",
       " 3.0,\n",
       " 5.0,\n",
       " 3.0,\n",
       " 5.0,\n",
       " 41.400000000000034,\n",
       " 4.0,\n",
       " 3.0,\n",
       " 2.0,\n",
       " 4.0,\n",
       " 4.0,\n",
       " 43.20000000000003,\n",
       " 4.0,\n",
       " 42.60000000000004,\n",
       " 41.40000000000005,\n",
       " 43.200000000000045,\n",
       " 4.0,\n",
       " 5.0,\n",
       " 2.0,\n",
       " 4.0,\n",
       " 3.0,\n",
       " 5.0,\n",
       " 4.0,\n",
       " 5.0,\n",
       " 43.800000000000054,\n",
       " 45.200000000000045,\n",
       " 44.200000000000045,\n",
       " 5.0,\n",
       " 3.0,\n",
       " 2.0,\n",
       " 3.0,\n",
       " 4.0,\n",
       " 2.0,\n",
       " 4.0,\n",
       " 43.40000000000006,\n",
       " 5.0,\n",
       " 4.0,\n",
       " 5.0,\n",
       " 2.0,\n",
       " 47.40000000000005,\n",
       " 48.00000000000005,\n",
       " 4.0,\n",
       " 5.0,\n",
       " 48.20000000000005,\n",
       " 5.0,\n",
       " 4.0,\n",
       " 4.0,\n",
       " 3.0,\n",
       " 2.0,\n",
       " 49.60000000000005,\n",
       " 3.0,\n",
       " 5.0,\n",
       " 3.0,\n",
       " 2.0,\n",
       " 52.60000000000005,\n",
       " 49.000000000000064,\n",
       " 4.0,\n",
       " 3.0,\n",
       " 52.20000000000006,\n",
       " 3.0,\n",
       " 4.0,\n",
       " 51.600000000000065,\n",
       " 4.0,\n",
       " 51.40000000000006,\n",
       " 5.0,\n",
       " 4.0,\n",
       " 4.0,\n",
       " 3.0,\n",
       " 5.0,\n",
       " 2.0,\n",
       " 2.0,\n",
       " 2.0,\n",
       " 53.80000000000007,\n",
       " 4.0,\n",
       " 4.0,\n",
       " 54.600000000000065,\n",
       " 3.0,\n",
       " 5.0,\n",
       " 55.20000000000007,\n",
       " 4.0,\n",
       " 3.0,\n",
       " 57.20000000000006,\n",
       " 4.0,\n",
       " 4.0,\n",
       " 5.0,\n",
       " 4.0,\n",
       " 3.0,\n",
       " 4.0,\n",
       " 3.0,\n",
       " 57.80000000000007,\n",
       " 5.0,\n",
       " 4.0,\n",
       " 58.00000000000007,\n",
       " 56.200000000000074,\n",
       " 3.0,\n",
       " 3.0,\n",
       " 5.0,\n",
       " 3.0,\n",
       " 3.0,\n",
       " 58.00000000000008,\n",
       " 58.800000000000075]"
      ]
     },
     "execution_count": 39,
     "metadata": {},
     "output_type": "execute_result"
    }
   ],
   "source": [
    "wait_times"
   ]
  },
  {
   "cell_type": "code",
   "execution_count": 68,
   "metadata": {},
   "outputs": [],
   "source": [
    "def test_generator(a):\n",
    "    print('this is a test')\n",
    "    while True:\n",
    "        yield a+1\n",
    "        print(a)\n",
    "        a= a+1\n",
    "    "
   ]
  },
  {
   "cell_type": "code",
   "execution_count": 69,
   "metadata": {},
   "outputs": [],
   "source": [
    "b = test_generator(2)"
   ]
  },
  {
   "cell_type": "code",
   "execution_count": 70,
   "metadata": {},
   "outputs": [
    {
     "name": "stdout",
     "output_type": "stream",
     "text": [
      "this is a test\n"
     ]
    },
    {
     "data": {
      "text/plain": [
       "3"
      ]
     },
     "execution_count": 70,
     "metadata": {},
     "output_type": "execute_result"
    }
   ],
   "source": [
    "next(b)"
   ]
  },
  {
   "cell_type": "code",
   "execution_count": 71,
   "metadata": {},
   "outputs": [
    {
     "name": "stdout",
     "output_type": "stream",
     "text": [
      "2\n"
     ]
    },
    {
     "data": {
      "text/plain": [
       "4"
      ]
     },
     "execution_count": 71,
     "metadata": {},
     "output_type": "execute_result"
    }
   ],
   "source": [
    "next(b)"
   ]
  },
  {
   "cell_type": "code",
   "execution_count": 72,
   "metadata": {},
   "outputs": [
    {
     "name": "stdout",
     "output_type": "stream",
     "text": [
      "3\n"
     ]
    },
    {
     "data": {
      "text/plain": [
       "5"
      ]
     },
     "execution_count": 72,
     "metadata": {},
     "output_type": "execute_result"
    }
   ],
   "source": [
    "next(b)"
   ]
  },
  {
   "cell_type": "code",
   "execution_count": null,
   "metadata": {},
   "outputs": [],
   "source": []
  }
 ],
 "metadata": {
  "kernelspec": {
   "display_name": "Python 3",
   "language": "python",
   "name": "python3"
  },
  "language_info": {
   "codemirror_mode": {
    "name": "ipython",
    "version": 3
   },
   "file_extension": ".py",
   "mimetype": "text/x-python",
   "name": "python",
   "nbconvert_exporter": "python",
   "pygments_lexer": "ipython3",
   "version": "3.8.5"
  }
 },
 "nbformat": 4,
 "nbformat_minor": 4
}
