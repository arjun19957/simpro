{
 "cells": [
  {
   "cell_type": "code",
   "execution_count": 19,
   "metadata": {},
   "outputs": [],
   "source": [
    "import simpy\n",
    "import random"
   ]
  },
  {
   "cell_type": "code",
   "execution_count": null,
   "metadata": {},
   "outputs": [],
   "source": [
    "# process definition"
   ]
  },
  {
   "cell_type": "code",
   "execution_count": null,
   "metadata": {},
   "outputs": [],
   "source": [
    "class warehouse():\n",
    "    def __init__(self, num_workers):\n",
    "        self.pickers = simpy.Resource(2)\n",
    "        self.packers = simpy.Resource(3)\n",
    "        self.sorters = simpy.Resource(3)\n",
    "        self.bags = simpy.Resource(400)\n",
    "        bagsorter_buffer = store = simpy.resources.store.Store(env, capacity=1)\n",
    "    \n",
    "    def pick()\n",
    "        yield env.timeout(3)\n",
    "    \n",
    "    def sort()\n",
    "        yield env.timeout(4)\n",
    "    \n",
    "    def pack()\n",
    "        yield env.timeout(5)\n",
    "      \n",
    "    def bagsorter_bringout()\n",
    "        yield env.timeout(6)\n",
    "    \n",
    "  \n",
    "        #can be implemented via a simpy store most likely\n",
    "        \n",
    "    \n",
    " "
   ]
  },
  {
   "cell_type": "code",
   "execution_count": null,
   "metadata": {},
   "outputs": [],
   "source": []
  },
  {
   "cell_type": "code",
   "execution_count": 3,
   "metadata": {},
   "outputs": [],
   "source": [
    "class order():\n",
    "    def __init__(self,bag_items,manual_items,identifier):\n",
    "        self.identifier = identifier\n",
    "        self.no_bag_items = bag_items\n",
    "        self.no_manual_items = manual_items\n"
   ]
  },
  {
   "cell_type": "code",
   "execution_count": null,
   "metadata": {},
   "outputs": [],
   "source": [
    "class quality_label():\n",
    "    def __init__(self,ordernumber,qualitylabel)\n",
    "        self.ordernumber = ordernumber\n",
    "        self.qualitylabel = qualitlylabel"
   ]
  },
  {
   "cell_type": "code",
   "execution_count": null,
   "metadata": {},
   "outputs": [],
   "source": [
    "# action components"
   ]
  },
  {
   "cell_type": "code",
   "execution_count": null,
   "metadata": {},
   "outputs": [],
   "source": [
    "def pick():\n",
    "        with self.pickers.request() as request:\n",
    "            yield request\n",
    "            env.timeout(2)\n",
    "    \n",
    "def pack():\n",
    "        with self.packers.request() as request:\n",
    "            yield request\n",
    "            env.timeout(3)\n",
    "    \n",
    "def sort():\n",
    "        with self.sorters.request() as request:\n",
    "            yield request\n",
    "            env.timeout(4)\n",
    "    \n",
    "def bagsorter_bringout():\n",
    "        with self.bags.request() as request:\n",
    "            yield request\n",
    "            env.timeout(15)"
   ]
  },
  {
   "cell_type": "code",
   "execution_count": 20,
   "metadata": {},
   "outputs": [],
   "source": [
    "def opa_commission(identifier):\n",
    "    return order(identifier,random.randint(1,3), random.randint(1,4) )"
   ]
  },
  {
   "cell_type": "code",
   "execution_count": 21,
   "metadata": {},
   "outputs": [],
   "source": [
    "test = []\n",
    "for i in range(1,10):\n",
    "    identifier = i\n",
    "    test.append(opa_commission(identifier))"
   ]
  },
  {
   "cell_type": "code",
   "execution_count": 23,
   "metadata": {},
   "outputs": [
    {
     "data": {
      "text/plain": [
       "2"
      ]
     },
     "execution_count": 23,
     "metadata": {},
     "output_type": "execute_result"
    }
   ],
   "source": [
    "test[1].identifier"
   ]
  },
  {
   "cell_type": "code",
   "execution_count": 10,
   "metadata": {},
   "outputs": [
    {
     "ename": "AttributeError",
     "evalue": "'function' object has no attribute 'identifier'",
     "output_type": "error",
     "traceback": [
      "\u001b[0;31m---------------------------------------------------------------------------\u001b[0m",
      "\u001b[0;31mAttributeError\u001b[0m                            Traceback (most recent call last)",
      "\u001b[0;32m<ipython-input-10-98ed467db153>\u001b[0m in \u001b[0;36m<module>\u001b[0;34m\u001b[0m\n\u001b[0;32m----> 1\u001b[0;31m \u001b[0mtest\u001b[0m\u001b[0;34m[\u001b[0m\u001b[0;36m1\u001b[0m\u001b[0;34m]\u001b[0m\u001b[0;34m.\u001b[0m\u001b[0midentifier\u001b[0m\u001b[0;34m\u001b[0m\u001b[0;34m\u001b[0m\u001b[0m\n\u001b[0m",
      "\u001b[0;31mAttributeError\u001b[0m: 'function' object has no attribute 'identifier'"
     ]
    }
   ],
   "source": [
    "test[1].identifier"
   ]
  },
  {
   "cell_type": "code",
   "execution_count": 29,
   "metadata": {},
   "outputs": [
    {
     "data": {
      "text/plain": [
       "<StorePut() object at 0x7fa4a80200d0>"
      ]
     },
     "execution_count": 29,
     "metadata": {},
     "output_type": "execute_result"
    }
   ],
   "source": [
    "env = simpy.Environment()\n",
    "\n",
    "store.put('item1')"
   ]
  },
  {
   "cell_type": "code",
   "execution_count": 30,
   "metadata": {},
   "outputs": [
    {
     "data": {
      "text/plain": [
       "['item1']"
      ]
     },
     "execution_count": 30,
     "metadata": {},
     "output_type": "execute_result"
    }
   ],
   "source": [
    "store.items"
   ]
  },
  {
   "cell_type": "code",
   "execution_count": null,
   "metadata": {},
   "outputs": [],
   "source": []
  }
 ],
 "metadata": {
  "kernelspec": {
   "display_name": "Python 3",
   "language": "python",
   "name": "python3"
  },
  "language_info": {
   "codemirror_mode": {
    "name": "ipython",
    "version": 3
   },
   "file_extension": ".py",
   "mimetype": "text/x-python",
   "name": "python",
   "nbconvert_exporter": "python",
   "pygments_lexer": "ipython3",
   "version": "3.8.5"
  }
 },
 "nbformat": 4,
 "nbformat_minor": 4
}
