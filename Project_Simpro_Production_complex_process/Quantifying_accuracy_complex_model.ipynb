{
 "cells": [
  {
   "cell_type": "markdown",
   "metadata": {},
   "source": [
    "# Objective\n",
    "Notebook provides a pipeline to compare the results of the simulation model against the true model discovered from the original eventlog"
   ]
  },
  {
   "cell_type": "code",
   "execution_count": 118,
   "metadata": {},
   "outputs": [],
   "source": [
    "import simpy\n",
    "from outputs.run_definition import run_definition \n",
    "import outputs.process_class as pc\n",
    "from outputs.utils import process_path_probability\n",
    "import pickle\n",
    "import pandas as pd\n",
    "import pm4py\n",
    "from pm4py.statistics.variants.log import get as pml\n",
    "from pm4py.objects.conversion.log.variants import df_to_event_log_nv "
   ]
  },
  {
   "cell_type": "markdown",
   "metadata": {},
   "source": [
    "# For simulation"
   ]
  },
  {
   "cell_type": "code",
   "execution_count": 119,
   "metadata": {},
   "outputs": [],
   "source": [
    "env = simpy.Environment()\n",
    "\n",
    "with open('outputs/data/variants.pkl', 'rb') as f:\n",
    "     variants = pickle.load(f)\n",
    "\n",
    "\n",
    "process_scenario_object = pc.process_definition(env)\n",
    "process_path_probabilities = process_path_probability(variants).run()\n",
    "event_log = process_scenario_object.log_list\n",
    "\n",
    "with open('outputs/data/log_sim.pkl', 'wb') as f:\n",
    "     pickle.dump(event_log, f)\n",
    "\n",
    "    \n",
    "env.process(run_definition(env, process_scenario_object,  process_path_probabilities))\n",
    "env.run(30000)\n",
    "\n"
   ]
  },
  {
   "cell_type": "code",
   "execution_count": 120,
   "metadata": {},
   "outputs": [],
   "source": [
    "log_sim_pm = pd.DataFrame(event_log, columns = ['case_id', 'event_time', 'Activity'])\n",
    "log_pm = pm4py.format_dataframe(log_sim_pm, case_id = 'case_id', activity_key = 'Activity', timestamp_key = 'event_time')"
   ]
  },
  {
   "cell_type": "code",
   "execution_count": 121,
   "metadata": {},
   "outputs": [],
   "source": [
    "#process_mode = pm4py.discover_bpmn_inductive(log_pm)"
   ]
  },
  {
   "cell_type": "code",
   "execution_count": 122,
   "metadata": {},
   "outputs": [],
   "source": [
    "event_log_renamed = log_pm"
   ]
  },
  {
   "cell_type": "code",
   "execution_count": 123,
   "metadata": {},
   "outputs": [
    {
     "data": {
      "text/html": [
       "<div>\n",
       "<style scoped>\n",
       "    .dataframe tbody tr th:only-of-type {\n",
       "        vertical-align: middle;\n",
       "    }\n",
       "\n",
       "    .dataframe tbody tr th {\n",
       "        vertical-align: top;\n",
       "    }\n",
       "\n",
       "    .dataframe thead th {\n",
       "        text-align: right;\n",
       "    }\n",
       "</style>\n",
       "<table border=\"1\" class=\"dataframe\">\n",
       "  <thead>\n",
       "    <tr style=\"text-align: right;\">\n",
       "      <th></th>\n",
       "      <th>case:concept:name</th>\n",
       "      <th>time:timestamp</th>\n",
       "      <th>concept:name</th>\n",
       "      <th>@@index</th>\n",
       "    </tr>\n",
       "  </thead>\n",
       "  <tbody>\n",
       "    <tr>\n",
       "      <th>30</th>\n",
       "      <td>10</td>\n",
       "      <td>20</td>\n",
       "      <td>aannamelaboratoriumonderzoek</td>\n",
       "      <td>30</td>\n",
       "    </tr>\n",
       "    <tr>\n",
       "      <th>49</th>\n",
       "      <td>10</td>\n",
       "      <td>26</td>\n",
       "      <td>aannamelaboratoriumonderzoek</td>\n",
       "      <td>49</td>\n",
       "    </tr>\n",
       "    <tr>\n",
       "      <th>55</th>\n",
       "      <td>10</td>\n",
       "      <td>28</td>\n",
       "      <td>creatininespoed</td>\n",
       "      <td>55</td>\n",
       "    </tr>\n",
       "    <tr>\n",
       "      <th>61</th>\n",
       "      <td>10</td>\n",
       "      <td>30</td>\n",
       "      <td>natriumvlamfotometrischspoed</td>\n",
       "      <td>61</td>\n",
       "    </tr>\n",
       "    <tr>\n",
       "      <th>68</th>\n",
       "      <td>10</td>\n",
       "      <td>32</td>\n",
       "      <td>kaliumvlamfotometrischspoed</td>\n",
       "      <td>68</td>\n",
       "    </tr>\n",
       "    <tr>\n",
       "      <th>...</th>\n",
       "      <td>...</td>\n",
       "      <td>...</td>\n",
       "      <td>...</td>\n",
       "      <td>...</td>\n",
       "    </tr>\n",
       "    <tr>\n",
       "      <th>1035</th>\n",
       "      <td>99</td>\n",
       "      <td>224</td>\n",
       "      <td>administratieftariefeerstepol</td>\n",
       "      <td>1035</td>\n",
       "    </tr>\n",
       "    <tr>\n",
       "      <th>1041</th>\n",
       "      <td>99</td>\n",
       "      <td>226</td>\n",
       "      <td>cytologischonderzoekectocervix</td>\n",
       "      <td>1041</td>\n",
       "    </tr>\n",
       "    <tr>\n",
       "      <th>1066</th>\n",
       "      <td>99</td>\n",
       "      <td>232</td>\n",
       "      <td>vervolgconsultpoliklinisch</td>\n",
       "      <td>1066</td>\n",
       "    </tr>\n",
       "    <tr>\n",
       "      <th>1073</th>\n",
       "      <td>99</td>\n",
       "      <td>234</td>\n",
       "      <td>administratieftariefeerstepol</td>\n",
       "      <td>1073</td>\n",
       "    </tr>\n",
       "    <tr>\n",
       "      <th>1081</th>\n",
       "      <td>99</td>\n",
       "      <td>236</td>\n",
       "      <td>telefonischconsult</td>\n",
       "      <td>1081</td>\n",
       "    </tr>\n",
       "  </tbody>\n",
       "</table>\n",
       "<p>58875 rows × 4 columns</p>\n",
       "</div>"
      ],
      "text/plain": [
       "     case:concept:name  time:timestamp                    concept:name  \\\n",
       "30                  10              20    aannamelaboratoriumonderzoek   \n",
       "49                  10              26    aannamelaboratoriumonderzoek   \n",
       "55                  10              28                 creatininespoed   \n",
       "61                  10              30    natriumvlamfotometrischspoed   \n",
       "68                  10              32     kaliumvlamfotometrischspoed   \n",
       "...                ...             ...                             ...   \n",
       "1035                99             224   administratieftariefeerstepol   \n",
       "1041                99             226  cytologischonderzoekectocervix   \n",
       "1066                99             232      vervolgconsultpoliklinisch   \n",
       "1073                99             234   administratieftariefeerstepol   \n",
       "1081                99             236              telefonischconsult   \n",
       "\n",
       "      @@index  \n",
       "30         30  \n",
       "49         49  \n",
       "55         55  \n",
       "61         61  \n",
       "68         68  \n",
       "...       ...  \n",
       "1035     1035  \n",
       "1041     1041  \n",
       "1066     1066  \n",
       "1073     1073  \n",
       "1081     1081  \n",
       "\n",
       "[58875 rows x 4 columns]"
      ]
     },
     "execution_count": 123,
     "metadata": {},
     "output_type": "execute_result"
    }
   ],
   "source": [
    "event_log_renamed"
   ]
  },
  {
   "cell_type": "code",
   "execution_count": 124,
   "metadata": {},
   "outputs": [],
   "source": [
    "event_log_renamed_sim = df_to_event_log_nv.apply(event_log_renamed)"
   ]
  },
  {
   "cell_type": "code",
   "execution_count": 125,
   "metadata": {},
   "outputs": [],
   "source": [
    "variants_simulation = pml.get_variants_sorted_by_count(pml.get_variants(event_log_renamed_sim))"
   ]
  },
  {
   "cell_type": "code",
   "execution_count": 126,
   "metadata": {},
   "outputs": [
    {
     "data": {
      "text/plain": [
       "96"
      ]
     },
     "execution_count": 126,
     "metadata": {},
     "output_type": "execute_result"
    }
   ],
   "source": [
    "len(variants_simulation)"
   ]
  },
  {
   "cell_type": "markdown",
   "metadata": {},
   "source": [
    "# For original model"
   ]
  },
  {
   "cell_type": "code",
   "execution_count": 127,
   "metadata": {},
   "outputs": [
    {
     "data": {
      "application/vnd.jupyter.widget-view+json": {
       "model_id": "4b81dfe903bd4f06a542bd1b85e8ffaf",
       "version_major": 2,
       "version_minor": 0
      },
      "text/plain": [
       "parsing log, completed traces ::   0%|          | 0/1143 [00:00<?, ?it/s]"
      ]
     },
     "metadata": {},
     "output_type": "display_data"
    }
   ],
   "source": [
    "event_log = pm4py.read_xes('Dataset/Hospital_log.xes')"
   ]
  },
  {
   "cell_type": "code",
   "execution_count": 128,
   "metadata": {},
   "outputs": [],
   "source": [
    "event_log_pd = pm4py.convert_to_dataframe(event_log)"
   ]
  },
  {
   "cell_type": "code",
   "execution_count": 129,
   "metadata": {},
   "outputs": [],
   "source": [
    "event_log_pd_filtered = event_log_pd[['concept:name', 'time:timestamp', 'case:concept:name']]"
   ]
  },
  {
   "cell_type": "code",
   "execution_count": 130,
   "metadata": {},
   "outputs": [
    {
     "name": "stderr",
     "output_type": "stream",
     "text": [
      "<ipython-input-130-d2b44d74f366>:1: FutureWarning: The default value of regex will change from True to False in a future version.\n",
      "  event_log_pd_filtered['concept:name'] = event_log_pd_filtered['concept:name'].str.replace('[^a-zA-Z]', '')\n",
      "<ipython-input-130-d2b44d74f366>:1: SettingWithCopyWarning: \n",
      "A value is trying to be set on a copy of a slice from a DataFrame.\n",
      "Try using .loc[row_indexer,col_indexer] = value instead\n",
      "\n",
      "See the caveats in the documentation: https://pandas.pydata.org/pandas-docs/stable/user_guide/indexing.html#returning-a-view-versus-a-copy\n",
      "  event_log_pd_filtered['concept:name'] = event_log_pd_filtered['concept:name'].str.replace('[^a-zA-Z]', '')\n"
     ]
    }
   ],
   "source": [
    "event_log_pd_filtered['concept:name'] = event_log_pd_filtered['concept:name'].str.replace('[^a-zA-Z]', '')"
   ]
  },
  {
   "cell_type": "code",
   "execution_count": 131,
   "metadata": {},
   "outputs": [],
   "source": [
    "event_log = df_to_event_log_nv.apply(event_log_pd_filtered)"
   ]
  },
  {
   "cell_type": "code",
   "execution_count": 132,
   "metadata": {},
   "outputs": [],
   "source": [
    "variants_original = pml.get_variants_sorted_by_count(pml.get_variants(event_log))"
   ]
  },
  {
   "cell_type": "code",
   "execution_count": 133,
   "metadata": {},
   "outputs": [
    {
     "data": {
      "text/plain": [
       "981"
      ]
     },
     "execution_count": 133,
     "metadata": {},
     "output_type": "execute_result"
    }
   ],
   "source": [
    "len(variants_original)"
   ]
  },
  {
   "cell_type": "code",
   "execution_count": 134,
   "metadata": {},
   "outputs": [],
   "source": [
    "# Quantifying the accuracy"
   ]
  },
  {
   "cell_type": "code",
   "execution_count": 135,
   "metadata": {},
   "outputs": [],
   "source": [
    "variants_simulation_component = []\n",
    "for i in range(len(variants_simulation)):\n",
    "    variants_simulation_component.append(variants_simulation[i][-2]) "
   ]
  },
  {
   "cell_type": "code",
   "execution_count": 136,
   "metadata": {},
   "outputs": [
    {
     "data": {
      "text/plain": [
       "96"
      ]
     },
     "execution_count": 136,
     "metadata": {},
     "output_type": "execute_result"
    }
   ],
   "source": [
    "len(variants_simulation_component)"
   ]
  },
  {
   "cell_type": "code",
   "execution_count": 137,
   "metadata": {},
   "outputs": [],
   "source": [
    "variants_original_component = []\n",
    "for i in range(len(variants_original)):\n",
    "    variants_original_component.append(variants_original[i][-2]) "
   ]
  },
  {
   "cell_type": "code",
   "execution_count": 138,
   "metadata": {},
   "outputs": [],
   "source": [
    "count_true_positives = 0\n",
    "for variant in variants_simulation_component:\n",
    "    if variant in variants_original_component:\n",
    "        count_true_positives = count_true_positives + 1"
   ]
  },
  {
   "cell_type": "code",
   "execution_count": 139,
   "metadata": {},
   "outputs": [
    {
     "data": {
      "text/plain": [
       "96"
      ]
     },
     "execution_count": 139,
     "metadata": {},
     "output_type": "execute_result"
    }
   ],
   "source": [
    "count_true_positives"
   ]
  },
  {
   "cell_type": "code",
   "execution_count": 140,
   "metadata": {},
   "outputs": [],
   "source": [
    "T_P_T_real = (count_true_positives/len(variants_original))*100"
   ]
  },
  {
   "cell_type": "code",
   "execution_count": 141,
   "metadata": {},
   "outputs": [],
   "source": [
    "T_N_T_real = ((len(variants_simulation) - count_true_positives)/len(variants_original))*100"
   ]
  },
  {
   "cell_type": "code",
   "execution_count": 142,
   "metadata": {},
   "outputs": [],
   "source": [
    "T_P_T_sim = (count_true_positives/len(variants_simulation))*100"
   ]
  },
  {
   "cell_type": "code",
   "execution_count": 143,
   "metadata": {},
   "outputs": [],
   "source": [
    "T_N_T_sim = ((len(variants_simulation) - count_true_positives)/len(variants_simulation))*100"
   ]
  },
  {
   "cell_type": "markdown",
   "metadata": {},
   "source": [
    "count of variants that did not show in the simulation"
   ]
  },
  {
   "cell_type": "code",
   "execution_count": 144,
   "metadata": {},
   "outputs": [],
   "source": [
    "variants_left = ((len(variants_original) - count_true_positives)/len(variants_original))*100 # count of variants that did not show in the simulation"
   ]
  },
  {
   "cell_type": "code",
   "execution_count": 145,
   "metadata": {},
   "outputs": [],
   "source": [
    "T_P_T_real = (count_true_positives/len(variants_original))*100"
   ]
  },
  {
   "cell_type": "code",
   "execution_count": 146,
   "metadata": {},
   "outputs": [
    {
     "data": {
      "text/plain": [
       "9.785932721712538"
      ]
     },
     "execution_count": 146,
     "metadata": {},
     "output_type": "execute_result"
    }
   ],
   "source": [
    "T_P_T_real"
   ]
  },
  {
   "cell_type": "code",
   "execution_count": 147,
   "metadata": {},
   "outputs": [
    {
     "data": {
      "text/plain": [
       "0.0"
      ]
     },
     "execution_count": 147,
     "metadata": {},
     "output_type": "execute_result"
    }
   ],
   "source": [
    "T_N_T_real"
   ]
  },
  {
   "cell_type": "code",
   "execution_count": 148,
   "metadata": {},
   "outputs": [
    {
     "data": {
      "text/plain": [
       "100.0"
      ]
     },
     "execution_count": 148,
     "metadata": {},
     "output_type": "execute_result"
    }
   ],
   "source": [
    "T_P_T_sim"
   ]
  },
  {
   "cell_type": "code",
   "execution_count": 149,
   "metadata": {},
   "outputs": [
    {
     "data": {
      "text/plain": [
       "0.0"
      ]
     },
     "execution_count": 149,
     "metadata": {},
     "output_type": "execute_result"
    }
   ],
   "source": [
    "T_N_T_sim"
   ]
  },
  {
   "cell_type": "code",
   "execution_count": 150,
   "metadata": {},
   "outputs": [
    {
     "data": {
      "text/plain": [
       "90.21406727828746"
      ]
     },
     "execution_count": 150,
     "metadata": {},
     "output_type": "execute_result"
    }
   ],
   "source": [
    "variants_left"
   ]
  }
 ],
 "metadata": {
  "kernelspec": {
   "display_name": "Python 3",
   "language": "python",
   "name": "python3"
  },
  "language_info": {
   "codemirror_mode": {
    "name": "ipython",
    "version": 3
   },
   "file_extension": ".py",
   "mimetype": "text/x-python",
   "name": "python",
   "nbconvert_exporter": "python",
   "pygments_lexer": "ipython3",
   "version": "3.8.5"
  }
 },
 "nbformat": 4,
 "nbformat_minor": 4
}
