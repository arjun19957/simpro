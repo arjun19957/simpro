{
 "cells": [
  {
   "cell_type": "code",
   "execution_count": 1,
   "metadata": {},
   "outputs": [],
   "source": [
    "import pm4py\n",
    "import simpy\n",
    "import pandas as pd\n",
    "import random \n",
    "from pm4py.statistics.variants.log import get as pml\n",
    "from pm4py.objects.conversion.log.variants import df_to_event_log_nv "
   ]
  },
  {
   "cell_type": "code",
   "execution_count": 76,
   "metadata": {},
   "outputs": [
    {
     "data": {
      "application/vnd.jupyter.widget-view+json": {
       "model_id": "14be26d5ceac4eeea9b303097f2b7559",
       "version_major": 2,
       "version_minor": 0
      },
      "text/plain": [
       "parsing log, completed traces ::   0%|          | 0/6 [00:00<?, ?it/s]"
      ]
     },
     "metadata": {},
     "output_type": "display_data"
    }
   ],
   "source": [
    "event_log = pm4py.read_xes('Dataset/running-example.xes')"
   ]
  },
  {
   "cell_type": "code",
   "execution_count": 62,
   "metadata": {},
   "outputs": [],
   "source": [
    "event_log_pd = pm4py.convert_to_dataframe(event_log)"
   ]
  },
  {
   "cell_type": "code",
   "execution_count": 63,
   "metadata": {},
   "outputs": [],
   "source": [
    "event_log_pd_filtered = event_log_pd[['case:concept:name', 'Activity', 'time:timestamp']]"
   ]
  },
  {
   "cell_type": "code",
   "execution_count": 64,
   "metadata": {},
   "outputs": [],
   "source": [
    "event_log_pd_filtered.columns = ['entity', 'Activity', 'event_time']"
   ]
  },
  {
   "cell_type": "code",
   "execution_count": 79,
   "metadata": {},
   "outputs": [
    {
     "data": {
      "text/html": [
       "<div>\n",
       "<style scoped>\n",
       "    .dataframe tbody tr th:only-of-type {\n",
       "        vertical-align: middle;\n",
       "    }\n",
       "\n",
       "    .dataframe tbody tr th {\n",
       "        vertical-align: top;\n",
       "    }\n",
       "\n",
       "    .dataframe thead th {\n",
       "        text-align: right;\n",
       "    }\n",
       "</style>\n",
       "<table border=\"1\" class=\"dataframe\">\n",
       "  <thead>\n",
       "    <tr style=\"text-align: right;\">\n",
       "      <th></th>\n",
       "      <th>entity</th>\n",
       "      <th>Activity</th>\n",
       "      <th>event_time</th>\n",
       "    </tr>\n",
       "  </thead>\n",
       "  <tbody>\n",
       "    <tr>\n",
       "      <th>0</th>\n",
       "      <td>3</td>\n",
       "      <td>register request</td>\n",
       "      <td>2010-12-30 14:32:00+01:00</td>\n",
       "    </tr>\n",
       "    <tr>\n",
       "      <th>1</th>\n",
       "      <td>3</td>\n",
       "      <td>examine casually</td>\n",
       "      <td>2010-12-30 15:06:00+01:00</td>\n",
       "    </tr>\n",
       "    <tr>\n",
       "      <th>2</th>\n",
       "      <td>3</td>\n",
       "      <td>check ticket</td>\n",
       "      <td>2010-12-30 16:34:00+01:00</td>\n",
       "    </tr>\n",
       "    <tr>\n",
       "      <th>3</th>\n",
       "      <td>3</td>\n",
       "      <td>decide</td>\n",
       "      <td>2011-01-06 09:18:00+01:00</td>\n",
       "    </tr>\n",
       "    <tr>\n",
       "      <th>4</th>\n",
       "      <td>3</td>\n",
       "      <td>reinitiate request</td>\n",
       "      <td>2011-01-06 12:18:00+01:00</td>\n",
       "    </tr>\n",
       "    <tr>\n",
       "      <th>5</th>\n",
       "      <td>3</td>\n",
       "      <td>examine thoroughly</td>\n",
       "      <td>2011-01-06 13:06:00+01:00</td>\n",
       "    </tr>\n",
       "    <tr>\n",
       "      <th>6</th>\n",
       "      <td>3</td>\n",
       "      <td>check ticket</td>\n",
       "      <td>2011-01-08 11:43:00+01:00</td>\n",
       "    </tr>\n",
       "    <tr>\n",
       "      <th>7</th>\n",
       "      <td>3</td>\n",
       "      <td>decide</td>\n",
       "      <td>2011-01-09 09:55:00+01:00</td>\n",
       "    </tr>\n",
       "    <tr>\n",
       "      <th>8</th>\n",
       "      <td>3</td>\n",
       "      <td>pay compensation</td>\n",
       "      <td>2011-01-15 10:45:00+01:00</td>\n",
       "    </tr>\n",
       "    <tr>\n",
       "      <th>9</th>\n",
       "      <td>2</td>\n",
       "      <td>register request</td>\n",
       "      <td>2010-12-30 11:32:00+01:00</td>\n",
       "    </tr>\n",
       "    <tr>\n",
       "      <th>10</th>\n",
       "      <td>2</td>\n",
       "      <td>check ticket</td>\n",
       "      <td>2010-12-30 12:12:00+01:00</td>\n",
       "    </tr>\n",
       "    <tr>\n",
       "      <th>11</th>\n",
       "      <td>2</td>\n",
       "      <td>examine casually</td>\n",
       "      <td>2010-12-30 14:16:00+01:00</td>\n",
       "    </tr>\n",
       "    <tr>\n",
       "      <th>12</th>\n",
       "      <td>2</td>\n",
       "      <td>decide</td>\n",
       "      <td>2011-01-05 11:22:00+01:00</td>\n",
       "    </tr>\n",
       "    <tr>\n",
       "      <th>13</th>\n",
       "      <td>2</td>\n",
       "      <td>pay compensation</td>\n",
       "      <td>2011-01-08 12:05:00+01:00</td>\n",
       "    </tr>\n",
       "    <tr>\n",
       "      <th>14</th>\n",
       "      <td>1</td>\n",
       "      <td>register request</td>\n",
       "      <td>2010-12-30 11:02:00+01:00</td>\n",
       "    </tr>\n",
       "    <tr>\n",
       "      <th>15</th>\n",
       "      <td>1</td>\n",
       "      <td>examine thoroughly</td>\n",
       "      <td>2010-12-31 10:06:00+01:00</td>\n",
       "    </tr>\n",
       "    <tr>\n",
       "      <th>16</th>\n",
       "      <td>1</td>\n",
       "      <td>check ticket</td>\n",
       "      <td>2011-01-05 15:12:00+01:00</td>\n",
       "    </tr>\n",
       "    <tr>\n",
       "      <th>17</th>\n",
       "      <td>1</td>\n",
       "      <td>decide</td>\n",
       "      <td>2011-01-06 11:18:00+01:00</td>\n",
       "    </tr>\n",
       "    <tr>\n",
       "      <th>18</th>\n",
       "      <td>1</td>\n",
       "      <td>reject request</td>\n",
       "      <td>2011-01-07 14:24:00+01:00</td>\n",
       "    </tr>\n",
       "    <tr>\n",
       "      <th>19</th>\n",
       "      <td>6</td>\n",
       "      <td>register request</td>\n",
       "      <td>2011-01-06 15:02:00+01:00</td>\n",
       "    </tr>\n",
       "    <tr>\n",
       "      <th>20</th>\n",
       "      <td>6</td>\n",
       "      <td>examine casually</td>\n",
       "      <td>2011-01-06 16:06:00+01:00</td>\n",
       "    </tr>\n",
       "    <tr>\n",
       "      <th>21</th>\n",
       "      <td>6</td>\n",
       "      <td>check ticket</td>\n",
       "      <td>2011-01-07 16:22:00+01:00</td>\n",
       "    </tr>\n",
       "    <tr>\n",
       "      <th>22</th>\n",
       "      <td>6</td>\n",
       "      <td>decide</td>\n",
       "      <td>2011-01-07 16:52:00+01:00</td>\n",
       "    </tr>\n",
       "    <tr>\n",
       "      <th>23</th>\n",
       "      <td>6</td>\n",
       "      <td>pay compensation</td>\n",
       "      <td>2011-01-16 11:47:00+01:00</td>\n",
       "    </tr>\n",
       "    <tr>\n",
       "      <th>24</th>\n",
       "      <td>5</td>\n",
       "      <td>register request</td>\n",
       "      <td>2011-01-06 09:02:00+01:00</td>\n",
       "    </tr>\n",
       "    <tr>\n",
       "      <th>25</th>\n",
       "      <td>5</td>\n",
       "      <td>examine casually</td>\n",
       "      <td>2011-01-07 10:16:00+01:00</td>\n",
       "    </tr>\n",
       "    <tr>\n",
       "      <th>26</th>\n",
       "      <td>5</td>\n",
       "      <td>check ticket</td>\n",
       "      <td>2011-01-08 11:22:00+01:00</td>\n",
       "    </tr>\n",
       "    <tr>\n",
       "      <th>27</th>\n",
       "      <td>5</td>\n",
       "      <td>decide</td>\n",
       "      <td>2011-01-10 13:28:00+01:00</td>\n",
       "    </tr>\n",
       "    <tr>\n",
       "      <th>28</th>\n",
       "      <td>5</td>\n",
       "      <td>reinitiate request</td>\n",
       "      <td>2011-01-11 16:18:00+01:00</td>\n",
       "    </tr>\n",
       "    <tr>\n",
       "      <th>29</th>\n",
       "      <td>5</td>\n",
       "      <td>check ticket</td>\n",
       "      <td>2011-01-14 14:33:00+01:00</td>\n",
       "    </tr>\n",
       "    <tr>\n",
       "      <th>30</th>\n",
       "      <td>5</td>\n",
       "      <td>examine casually</td>\n",
       "      <td>2011-01-16 15:50:00+01:00</td>\n",
       "    </tr>\n",
       "    <tr>\n",
       "      <th>31</th>\n",
       "      <td>5</td>\n",
       "      <td>decide</td>\n",
       "      <td>2011-01-19 11:18:00+01:00</td>\n",
       "    </tr>\n",
       "    <tr>\n",
       "      <th>32</th>\n",
       "      <td>5</td>\n",
       "      <td>reinitiate request</td>\n",
       "      <td>2011-01-20 12:48:00+01:00</td>\n",
       "    </tr>\n",
       "    <tr>\n",
       "      <th>33</th>\n",
       "      <td>5</td>\n",
       "      <td>examine casually</td>\n",
       "      <td>2011-01-21 09:06:00+01:00</td>\n",
       "    </tr>\n",
       "    <tr>\n",
       "      <th>34</th>\n",
       "      <td>5</td>\n",
       "      <td>check ticket</td>\n",
       "      <td>2011-01-21 11:34:00+01:00</td>\n",
       "    </tr>\n",
       "    <tr>\n",
       "      <th>35</th>\n",
       "      <td>5</td>\n",
       "      <td>decide</td>\n",
       "      <td>2011-01-23 13:12:00+01:00</td>\n",
       "    </tr>\n",
       "    <tr>\n",
       "      <th>36</th>\n",
       "      <td>5</td>\n",
       "      <td>reject request</td>\n",
       "      <td>2011-01-24 14:56:00+01:00</td>\n",
       "    </tr>\n",
       "    <tr>\n",
       "      <th>37</th>\n",
       "      <td>4</td>\n",
       "      <td>register request</td>\n",
       "      <td>2011-01-06 15:02:00+01:00</td>\n",
       "    </tr>\n",
       "    <tr>\n",
       "      <th>38</th>\n",
       "      <td>4</td>\n",
       "      <td>check ticket</td>\n",
       "      <td>2011-01-07 12:06:00+01:00</td>\n",
       "    </tr>\n",
       "    <tr>\n",
       "      <th>39</th>\n",
       "      <td>4</td>\n",
       "      <td>examine thoroughly</td>\n",
       "      <td>2011-01-08 14:43:00+01:00</td>\n",
       "    </tr>\n",
       "    <tr>\n",
       "      <th>40</th>\n",
       "      <td>4</td>\n",
       "      <td>decide</td>\n",
       "      <td>2011-01-09 12:02:00+01:00</td>\n",
       "    </tr>\n",
       "    <tr>\n",
       "      <th>41</th>\n",
       "      <td>4</td>\n",
       "      <td>reject request</td>\n",
       "      <td>2011-01-12 15:44:00+01:00</td>\n",
       "    </tr>\n",
       "  </tbody>\n",
       "</table>\n",
       "</div>"
      ],
      "text/plain": [
       "   entity            Activity                event_time\n",
       "0       3    register request 2010-12-30 14:32:00+01:00\n",
       "1       3    examine casually 2010-12-30 15:06:00+01:00\n",
       "2       3        check ticket 2010-12-30 16:34:00+01:00\n",
       "3       3              decide 2011-01-06 09:18:00+01:00\n",
       "4       3  reinitiate request 2011-01-06 12:18:00+01:00\n",
       "5       3  examine thoroughly 2011-01-06 13:06:00+01:00\n",
       "6       3        check ticket 2011-01-08 11:43:00+01:00\n",
       "7       3              decide 2011-01-09 09:55:00+01:00\n",
       "8       3    pay compensation 2011-01-15 10:45:00+01:00\n",
       "9       2    register request 2010-12-30 11:32:00+01:00\n",
       "10      2        check ticket 2010-12-30 12:12:00+01:00\n",
       "11      2    examine casually 2010-12-30 14:16:00+01:00\n",
       "12      2              decide 2011-01-05 11:22:00+01:00\n",
       "13      2    pay compensation 2011-01-08 12:05:00+01:00\n",
       "14      1    register request 2010-12-30 11:02:00+01:00\n",
       "15      1  examine thoroughly 2010-12-31 10:06:00+01:00\n",
       "16      1        check ticket 2011-01-05 15:12:00+01:00\n",
       "17      1              decide 2011-01-06 11:18:00+01:00\n",
       "18      1      reject request 2011-01-07 14:24:00+01:00\n",
       "19      6    register request 2011-01-06 15:02:00+01:00\n",
       "20      6    examine casually 2011-01-06 16:06:00+01:00\n",
       "21      6        check ticket 2011-01-07 16:22:00+01:00\n",
       "22      6              decide 2011-01-07 16:52:00+01:00\n",
       "23      6    pay compensation 2011-01-16 11:47:00+01:00\n",
       "24      5    register request 2011-01-06 09:02:00+01:00\n",
       "25      5    examine casually 2011-01-07 10:16:00+01:00\n",
       "26      5        check ticket 2011-01-08 11:22:00+01:00\n",
       "27      5              decide 2011-01-10 13:28:00+01:00\n",
       "28      5  reinitiate request 2011-01-11 16:18:00+01:00\n",
       "29      5        check ticket 2011-01-14 14:33:00+01:00\n",
       "30      5    examine casually 2011-01-16 15:50:00+01:00\n",
       "31      5              decide 2011-01-19 11:18:00+01:00\n",
       "32      5  reinitiate request 2011-01-20 12:48:00+01:00\n",
       "33      5    examine casually 2011-01-21 09:06:00+01:00\n",
       "34      5        check ticket 2011-01-21 11:34:00+01:00\n",
       "35      5              decide 2011-01-23 13:12:00+01:00\n",
       "36      5      reject request 2011-01-24 14:56:00+01:00\n",
       "37      4    register request 2011-01-06 15:02:00+01:00\n",
       "38      4        check ticket 2011-01-07 12:06:00+01:00\n",
       "39      4  examine thoroughly 2011-01-08 14:43:00+01:00\n",
       "40      4              decide 2011-01-09 12:02:00+01:00\n",
       "41      4      reject request 2011-01-12 15:44:00+01:00"
      ]
     },
     "execution_count": 79,
     "metadata": {},
     "output_type": "execute_result"
    }
   ],
   "source": [
    "event_log_pd_filtered"
   ]
  },
  {
   "cell_type": "code",
   "execution_count": 65,
   "metadata": {},
   "outputs": [],
   "source": [
    "log_sim_pm = pd.DataFrame(event_log_pd_filtered, columns = ['entity' , 'event_time', 'Activity'])\n",
    "log_pm = pm4py.format_dataframe(log_sim_pm, case_id = 'entity', activity_key = 'Activity', timestamp_key = 'event_time')"
   ]
  },
  {
   "cell_type": "code",
   "execution_count": 67,
   "metadata": {},
   "outputs": [],
   "source": [
    "process_mode = pm4py.discover_bpmn_inductive(log_pm)"
   ]
  },
  {
   "cell_type": "code",
   "execution_count": 68,
   "metadata": {},
   "outputs": [],
   "source": [
    "pm4py.save_vis_bpmn(process_mode, 'test.png') # command for saving the output model diagram"
   ]
  },
  {
   "cell_type": "markdown",
   "metadata": {},
   "source": [
    "# Hospital dataset"
   ]
  },
  {
   "cell_type": "code",
   "execution_count": 2,
   "metadata": {},
   "outputs": [
    {
     "data": {
      "application/vnd.jupyter.widget-view+json": {
       "model_id": "6c606576916d43818f53b54ae3d9b2a6",
       "version_major": 2,
       "version_minor": 0
      },
      "text/plain": [
       "parsing log, completed traces ::   0%|          | 0/1143 [00:00<?, ?it/s]"
      ]
     },
     "metadata": {},
     "output_type": "display_data"
    }
   ],
   "source": [
    "event_log = pm4py.read_xes('Dataset/Hospital_log.xes')"
   ]
  },
  {
   "cell_type": "code",
   "execution_count": 3,
   "metadata": {},
   "outputs": [],
   "source": [
    "event_log_pd =pm4py.convert_to_dataframe(event_log)"
   ]
  },
  {
   "cell_type": "code",
   "execution_count": 4,
   "metadata": {},
   "outputs": [],
   "source": [
    "event_log_pd_filtered = event_log_pd[['concept:name', 'time:timestamp', 'case:concept:name']]"
   ]
  },
  {
   "cell_type": "code",
   "execution_count": 5,
   "metadata": {},
   "outputs": [
    {
     "name": "stderr",
     "output_type": "stream",
     "text": [
      "<ipython-input-5-d2b44d74f366>:1: FutureWarning: The default value of regex will change from True to False in a future version.\n",
      "  event_log_pd_filtered['concept:name'] = event_log_pd_filtered['concept:name'].str.replace('[^a-zA-Z]', '')\n",
      "<ipython-input-5-d2b44d74f366>:1: SettingWithCopyWarning: \n",
      "A value is trying to be set on a copy of a slice from a DataFrame.\n",
      "Try using .loc[row_indexer,col_indexer] = value instead\n",
      "\n",
      "See the caveats in the documentation: https://pandas.pydata.org/pandas-docs/stable/user_guide/indexing.html#returning-a-view-versus-a-copy\n",
      "  event_log_pd_filtered['concept:name'] = event_log_pd_filtered['concept:name'].str.replace('[^a-zA-Z]', '')\n"
     ]
    }
   ],
   "source": [
    "event_log_pd_filtered['concept:name'] = event_log_pd_filtered['concept:name'].str.replace('[^a-zA-Z]', '')"
   ]
  },
  {
   "cell_type": "code",
   "execution_count": 7,
   "metadata": {},
   "outputs": [
    {
     "data": {
      "text/html": [
       "<div>\n",
       "<style scoped>\n",
       "    .dataframe tbody tr th:only-of-type {\n",
       "        vertical-align: middle;\n",
       "    }\n",
       "\n",
       "    .dataframe tbody tr th {\n",
       "        vertical-align: top;\n",
       "    }\n",
       "\n",
       "    .dataframe thead th {\n",
       "        text-align: right;\n",
       "    }\n",
       "</style>\n",
       "<table border=\"1\" class=\"dataframe\">\n",
       "  <thead>\n",
       "    <tr style=\"text-align: right;\">\n",
       "      <th></th>\n",
       "      <th>concept:name</th>\n",
       "      <th>time:timestamp</th>\n",
       "      <th>case:concept:name</th>\n",
       "    </tr>\n",
       "  </thead>\n",
       "  <tbody>\n",
       "    <tr>\n",
       "      <th>0</th>\n",
       "      <td>econsultpoliklinisch</td>\n",
       "      <td>2005-01-03 00:00:00+01:00</td>\n",
       "      <td>00000000</td>\n",
       "    </tr>\n",
       "    <tr>\n",
       "      <th>1</th>\n",
       "      <td>administratieftariefeerstepol</td>\n",
       "      <td>2005-01-03 00:00:00+01:00</td>\n",
       "      <td>00000000</td>\n",
       "    </tr>\n",
       "    <tr>\n",
       "      <th>2</th>\n",
       "      <td>verloskgynaeckortekaartkostenout</td>\n",
       "      <td>2005-01-05 00:00:00+01:00</td>\n",
       "      <td>00000000</td>\n",
       "    </tr>\n",
       "    <tr>\n",
       "      <th>3</th>\n",
       "      <td>echografiegenitaliainterna</td>\n",
       "      <td>2005-01-05 00:00:00+01:00</td>\n",
       "      <td>00000000</td>\n",
       "    </tr>\n",
       "    <tr>\n",
       "      <th>4</th>\n",
       "      <td>econsultpoliklinisch</td>\n",
       "      <td>2005-01-05 00:00:00+01:00</td>\n",
       "      <td>00000000</td>\n",
       "    </tr>\n",
       "    <tr>\n",
       "      <th>...</th>\n",
       "      <td>...</td>\n",
       "      <td>...</td>\n",
       "      <td>...</td>\n",
       "    </tr>\n",
       "    <tr>\n",
       "      <th>150286</th>\n",
       "      <td>calcium</td>\n",
       "      <td>2008-03-20 00:00:00+01:00</td>\n",
       "      <td>00001142</td>\n",
       "    </tr>\n",
       "    <tr>\n",
       "      <th>150287</th>\n",
       "      <td>albumine</td>\n",
       "      <td>2008-03-20 00:00:00+01:00</td>\n",
       "      <td>00001142</td>\n",
       "    </tr>\n",
       "    <tr>\n",
       "      <th>150288</th>\n",
       "      <td>screeningantistoffenerytrocyten</td>\n",
       "      <td>2008-03-20 00:00:00+01:00</td>\n",
       "      <td>00001142</td>\n",
       "    </tr>\n",
       "    <tr>\n",
       "      <th>150289</th>\n",
       "      <td>differentiatieleukocytenhandmatig</td>\n",
       "      <td>2008-03-20 00:00:00+01:00</td>\n",
       "      <td>00001142</td>\n",
       "    </tr>\n",
       "    <tr>\n",
       "      <th>150290</th>\n",
       "      <td>ordertarief</td>\n",
       "      <td>2008-03-20 00:00:00+01:00</td>\n",
       "      <td>00001142</td>\n",
       "    </tr>\n",
       "  </tbody>\n",
       "</table>\n",
       "<p>150291 rows × 3 columns</p>\n",
       "</div>"
      ],
      "text/plain": [
       "                             concept:name             time:timestamp  \\\n",
       "0                    econsultpoliklinisch  2005-01-03 00:00:00+01:00   \n",
       "1           administratieftariefeerstepol  2005-01-03 00:00:00+01:00   \n",
       "2        verloskgynaeckortekaartkostenout  2005-01-05 00:00:00+01:00   \n",
       "3              echografiegenitaliainterna  2005-01-05 00:00:00+01:00   \n",
       "4                    econsultpoliklinisch  2005-01-05 00:00:00+01:00   \n",
       "...                                   ...                        ...   \n",
       "150286                            calcium  2008-03-20 00:00:00+01:00   \n",
       "150287                           albumine  2008-03-20 00:00:00+01:00   \n",
       "150288    screeningantistoffenerytrocyten  2008-03-20 00:00:00+01:00   \n",
       "150289  differentiatieleukocytenhandmatig  2008-03-20 00:00:00+01:00   \n",
       "150290                        ordertarief  2008-03-20 00:00:00+01:00   \n",
       "\n",
       "       case:concept:name  \n",
       "0               00000000  \n",
       "1               00000000  \n",
       "2               00000000  \n",
       "3               00000000  \n",
       "4               00000000  \n",
       "...                  ...  \n",
       "150286          00001142  \n",
       "150287          00001142  \n",
       "150288          00001142  \n",
       "150289          00001142  \n",
       "150290          00001142  \n",
       "\n",
       "[150291 rows x 3 columns]"
      ]
     },
     "execution_count": 7,
     "metadata": {},
     "output_type": "execute_result"
    }
   ],
   "source": [
    "event_log_pd_filtered"
   ]
  },
  {
   "cell_type": "code",
   "execution_count": 6,
   "metadata": {},
   "outputs": [],
   "source": [
    "event_log = df_to_event_log_nv.apply(event_log_pd_filtered)"
   ]
  },
  {
   "cell_type": "code",
   "execution_count": 24,
   "metadata": {},
   "outputs": [],
   "source": [
    "event_log_pd_filtered.columns = ['activity','timestamp','entity']"
   ]
  },
  {
   "cell_type": "code",
   "execution_count": 28,
   "metadata": {},
   "outputs": [],
   "source": [
    "log_pm = pm4py.format_dataframe(event_log_pd_filtered, case_id = 'entity', activity_key = 'activity', timestamp_key = 'timestamp')"
   ]
  },
  {
   "cell_type": "code",
   "execution_count": 29,
   "metadata": {},
   "outputs": [],
   "source": [
    "process_mode = pm4py.discover_bpmn_inductive(log_pm)"
   ]
  },
  {
   "cell_type": "code",
   "execution_count": 35,
   "metadata": {},
   "outputs": [
    {
     "name": "stderr",
     "output_type": "stream",
     "text": [
      "dot: graph is too large for cairo-renderer bitmaps. Scaling by 0.74209 to fit\n"
     ]
    }
   ],
   "source": [
    "pm4py.save_vis_bpmn(process_mode, 'test.png')"
   ]
  }
 ],
 "metadata": {
  "kernelspec": {
   "display_name": "Python 3",
   "language": "python",
   "name": "python3"
  },
  "language_info": {
   "codemirror_mode": {
    "name": "ipython",
    "version": 3
   },
   "file_extension": ".py",
   "mimetype": "text/x-python",
   "name": "python",
   "nbconvert_exporter": "python",
   "pygments_lexer": "ipython3",
   "version": "3.8.5"
  }
 },
 "nbformat": 4,
 "nbformat_minor": 4
}
