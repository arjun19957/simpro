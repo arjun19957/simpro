{
 "cells": [
  {
   "cell_type": "code",
   "execution_count": 75,
   "metadata": {},
   "outputs": [],
   "source": [
    "import pm4py\n",
    "import simpy\n",
    "import pandas as pd\n",
    "import random \n",
    "from pm4py.statistics.variants.log import get as pml\n",
    "from pm4py.objects.conversion.log.variants import df_to_event_log_nv "
   ]
  },
  {
   "cell_type": "code",
   "execution_count": 76,
   "metadata": {},
   "outputs": [
    {
     "data": {
      "application/vnd.jupyter.widget-view+json": {
       "model_id": "14be26d5ceac4eeea9b303097f2b7559",
       "version_major": 2,
       "version_minor": 0
      },
      "text/plain": [
       "parsing log, completed traces ::   0%|          | 0/6 [00:00<?, ?it/s]"
      ]
     },
     "metadata": {},
     "output_type": "display_data"
    }
   ],
   "source": [
    "event_log = pm4py.read_xes('Dataset/running-example.xes')"
   ]
  },
  {
   "cell_type": "code",
   "execution_count": 62,
   "metadata": {},
   "outputs": [],
   "source": [
    "event_log_pd = pm4py.convert_to_dataframe(event_log)"
   ]
  },
  {
   "cell_type": "code",
   "execution_count": 63,
   "metadata": {},
   "outputs": [],
   "source": [
    "event_log_pd_filtered = event_log_pd[['case:concept:name', 'Activity', 'time:timestamp']]"
   ]
  },
  {
   "cell_type": "code",
   "execution_count": 64,
   "metadata": {},
   "outputs": [],
   "source": [
    "event_log_pd_filtered.columns = ['entity', 'Activity', 'event_time']"
   ]
  },
  {
   "cell_type": "code",
   "execution_count": 65,
   "metadata": {},
   "outputs": [],
   "source": [
    "log_sim_pm = pd.DataFrame(event_log_pd_filtered, columns = ['entity' , 'event_time', 'Activity'])\n",
    "log_pm = pm4py.format_dataframe(log_sim_pm, case_id = 'entity', activity_key = 'Activity', timestamp_key = 'event_time')"
   ]
  },
  {
   "cell_type": "code",
   "execution_count": 67,
   "metadata": {},
   "outputs": [],
   "source": [
    "process_mode = pm4py.discover_bpmn_inductive(log_pm)"
   ]
  },
  {
   "cell_type": "code",
   "execution_count": 68,
   "metadata": {},
   "outputs": [],
   "source": [
    "pm4py.save_vis_bpmn(process_mode, 'test.png')"
   ]
  },
  {
   "cell_type": "code",
   "execution_count": null,
   "metadata": {},
   "outputs": [],
   "source": [
    "# Hospital dataset"
   ]
  },
  {
   "cell_type": "code",
   "execution_count": 13,
   "metadata": {},
   "outputs": [
    {
     "data": {
      "application/vnd.jupyter.widget-view+json": {
       "model_id": "e22b74d9bee44cf2a4db81548365bad4",
       "version_major": 2,
       "version_minor": 0
      },
      "text/plain": [
       "parsing log, completed traces ::   0%|          | 0/1143 [00:00<?, ?it/s]"
      ]
     },
     "metadata": {},
     "output_type": "display_data"
    }
   ],
   "source": [
    "event_log = pm4py.read_xes('Dataset/Hospital_log.xes')"
   ]
  },
  {
   "cell_type": "code",
   "execution_count": 20,
   "metadata": {},
   "outputs": [],
   "source": [
    "event_log_pd =pm4py.convert_to_dataframe(event_log)"
   ]
  },
  {
   "cell_type": "code",
   "execution_count": 21,
   "metadata": {},
   "outputs": [],
   "source": [
    "event_log_pd_filtered = event_log_pd[['concept:name', 'time:timestamp', 'case:concept:name']]"
   ]
  },
  {
   "cell_type": "code",
   "execution_count": 22,
   "metadata": {},
   "outputs": [
    {
     "name": "stderr",
     "output_type": "stream",
     "text": [
      "<ipython-input-22-d2b44d74f366>:1: FutureWarning: The default value of regex will change from True to False in a future version.\n",
      "  event_log_pd_filtered['concept:name'] = event_log_pd_filtered['concept:name'].str.replace('[^a-zA-Z]', '')\n",
      "<ipython-input-22-d2b44d74f366>:1: SettingWithCopyWarning: \n",
      "A value is trying to be set on a copy of a slice from a DataFrame.\n",
      "Try using .loc[row_indexer,col_indexer] = value instead\n",
      "\n",
      "See the caveats in the documentation: https://pandas.pydata.org/pandas-docs/stable/user_guide/indexing.html#returning-a-view-versus-a-copy\n",
      "  event_log_pd_filtered['concept:name'] = event_log_pd_filtered['concept:name'].str.replace('[^a-zA-Z]', '')\n"
     ]
    }
   ],
   "source": [
    "event_log_pd_filtered['concept:name'] = event_log_pd_filtered['concept:name'].str.replace('[^a-zA-Z]', '')"
   ]
  },
  {
   "cell_type": "code",
   "execution_count": 23,
   "metadata": {},
   "outputs": [],
   "source": [
    "event_log = df_to_event_log_nv.apply(event_log_pd_filtered)"
   ]
  },
  {
   "cell_type": "code",
   "execution_count": 24,
   "metadata": {},
   "outputs": [],
   "source": [
    "event_log_pd_filtered.columns = ['activity','timestamp','entity']"
   ]
  },
  {
   "cell_type": "code",
   "execution_count": 26,
   "metadata": {},
   "outputs": [
    {
     "data": {
      "text/html": [
       "<div>\n",
       "<style scoped>\n",
       "    .dataframe tbody tr th:only-of-type {\n",
       "        vertical-align: middle;\n",
       "    }\n",
       "\n",
       "    .dataframe tbody tr th {\n",
       "        vertical-align: top;\n",
       "    }\n",
       "\n",
       "    .dataframe thead th {\n",
       "        text-align: right;\n",
       "    }\n",
       "</style>\n",
       "<table border=\"1\" class=\"dataframe\">\n",
       "  <thead>\n",
       "    <tr style=\"text-align: right;\">\n",
       "      <th></th>\n",
       "      <th>activity</th>\n",
       "      <th>timestamp</th>\n",
       "      <th>entity</th>\n",
       "    </tr>\n",
       "  </thead>\n",
       "  <tbody>\n",
       "    <tr>\n",
       "      <th>0</th>\n",
       "      <td>econsultpoliklinisch</td>\n",
       "      <td>2005-01-03 00:00:00+01:00</td>\n",
       "      <td>00000000</td>\n",
       "    </tr>\n",
       "    <tr>\n",
       "      <th>1</th>\n",
       "      <td>administratieftariefeerstepol</td>\n",
       "      <td>2005-01-03 00:00:00+01:00</td>\n",
       "      <td>00000000</td>\n",
       "    </tr>\n",
       "    <tr>\n",
       "      <th>2</th>\n",
       "      <td>verloskgynaeckortekaartkostenout</td>\n",
       "      <td>2005-01-05 00:00:00+01:00</td>\n",
       "      <td>00000000</td>\n",
       "    </tr>\n",
       "    <tr>\n",
       "      <th>3</th>\n",
       "      <td>echografiegenitaliainterna</td>\n",
       "      <td>2005-01-05 00:00:00+01:00</td>\n",
       "      <td>00000000</td>\n",
       "    </tr>\n",
       "    <tr>\n",
       "      <th>4</th>\n",
       "      <td>econsultpoliklinisch</td>\n",
       "      <td>2005-01-05 00:00:00+01:00</td>\n",
       "      <td>00000000</td>\n",
       "    </tr>\n",
       "    <tr>\n",
       "      <th>...</th>\n",
       "      <td>...</td>\n",
       "      <td>...</td>\n",
       "      <td>...</td>\n",
       "    </tr>\n",
       "    <tr>\n",
       "      <th>150286</th>\n",
       "      <td>calcium</td>\n",
       "      <td>2008-03-20 00:00:00+01:00</td>\n",
       "      <td>00001142</td>\n",
       "    </tr>\n",
       "    <tr>\n",
       "      <th>150287</th>\n",
       "      <td>albumine</td>\n",
       "      <td>2008-03-20 00:00:00+01:00</td>\n",
       "      <td>00001142</td>\n",
       "    </tr>\n",
       "    <tr>\n",
       "      <th>150288</th>\n",
       "      <td>screeningantistoffenerytrocyten</td>\n",
       "      <td>2008-03-20 00:00:00+01:00</td>\n",
       "      <td>00001142</td>\n",
       "    </tr>\n",
       "    <tr>\n",
       "      <th>150289</th>\n",
       "      <td>differentiatieleukocytenhandmatig</td>\n",
       "      <td>2008-03-20 00:00:00+01:00</td>\n",
       "      <td>00001142</td>\n",
       "    </tr>\n",
       "    <tr>\n",
       "      <th>150290</th>\n",
       "      <td>ordertarief</td>\n",
       "      <td>2008-03-20 00:00:00+01:00</td>\n",
       "      <td>00001142</td>\n",
       "    </tr>\n",
       "  </tbody>\n",
       "</table>\n",
       "<p>150291 rows × 3 columns</p>\n",
       "</div>"
      ],
      "text/plain": [
       "                                 activity                  timestamp    entity\n",
       "0                    econsultpoliklinisch  2005-01-03 00:00:00+01:00  00000000\n",
       "1           administratieftariefeerstepol  2005-01-03 00:00:00+01:00  00000000\n",
       "2        verloskgynaeckortekaartkostenout  2005-01-05 00:00:00+01:00  00000000\n",
       "3              echografiegenitaliainterna  2005-01-05 00:00:00+01:00  00000000\n",
       "4                    econsultpoliklinisch  2005-01-05 00:00:00+01:00  00000000\n",
       "...                                   ...                        ...       ...\n",
       "150286                            calcium  2008-03-20 00:00:00+01:00  00001142\n",
       "150287                           albumine  2008-03-20 00:00:00+01:00  00001142\n",
       "150288    screeningantistoffenerytrocyten  2008-03-20 00:00:00+01:00  00001142\n",
       "150289  differentiatieleukocytenhandmatig  2008-03-20 00:00:00+01:00  00001142\n",
       "150290                        ordertarief  2008-03-20 00:00:00+01:00  00001142\n",
       "\n",
       "[150291 rows x 3 columns]"
      ]
     },
     "execution_count": 26,
     "metadata": {},
     "output_type": "execute_result"
    }
   ],
   "source": [
    "event_log_pd_filtered"
   ]
  },
  {
   "cell_type": "code",
   "execution_count": 28,
   "metadata": {},
   "outputs": [],
   "source": [
    "log_pm = pm4py.format_dataframe(event_log_pd_filtered, case_id = 'entity', activity_key = 'activity', timestamp_key = 'timestamp')"
   ]
  },
  {
   "cell_type": "code",
   "execution_count": 29,
   "metadata": {},
   "outputs": [],
   "source": [
    "process_mode = pm4py.discover_bpmn_inductive(log_pm)"
   ]
  },
  {
   "cell_type": "code",
   "execution_count": 35,
   "metadata": {},
   "outputs": [
    {
     "name": "stderr",
     "output_type": "stream",
     "text": [
      "dot: graph is too large for cairo-renderer bitmaps. Scaling by 0.74209 to fit\n"
     ]
    }
   ],
   "source": [
    "pm4py.save_vis_bpmn(process_mode, 'test.png')"
   ]
  },
  {
   "cell_type": "code",
   "execution_count": null,
   "metadata": {},
   "outputs": [],
   "source": []
  }
 ],
 "metadata": {
  "kernelspec": {
   "display_name": "Python 3",
   "language": "python",
   "name": "python3"
  },
  "language_info": {
   "codemirror_mode": {
    "name": "ipython",
    "version": 3
   },
   "file_extension": ".py",
   "mimetype": "text/x-python",
   "name": "python",
   "nbconvert_exporter": "python",
   "pygments_lexer": "ipython3",
   "version": "3.8.5"
  }
 },
 "nbformat": 4,
 "nbformat_minor": 4
}
